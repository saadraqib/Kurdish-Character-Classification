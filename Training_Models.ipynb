{
  "cells": [
    {
      "cell_type": "markdown",
      "id": "82a763ba",
      "metadata": {
        "id": "82a763ba"
      },
      "source": [
        "# Train the Data"
      ]
    },
    {
      "cell_type": "code",
      "execution_count": null,
      "id": "08da9dc6",
      "metadata": {
        "id": "08da9dc6"
      },
      "outputs": [],
      "source": [
        "import numpy as np \n",
        "import pandas as pd\n",
        "import matplotlib.pyplot as plt\n",
        "import pylab as pl"
      ]
    },
    {
      "cell_type": "code",
      "execution_count": null,
      "id": "f2f98845",
      "metadata": {
        "id": "f2f98845"
      },
      "outputs": [],
      "source": [
        "data = pd.read_csv(r'C:\\Users\\ARAS STORE\\Desktop\\Folders\\DataSet_K.OCR_DSML_project\\DataSet\\kurdish_alphabetical.csv')"
      ]
    },
    {
      "cell_type": "code",
      "execution_count": null,
      "id": "706419a8",
      "metadata": {
        "id": "706419a8",
        "outputId": "ab0b4254-e50d-4399-8344-e3a6d41eeb9b"
      },
      "outputs": [
        {
          "data": {
            "text/html": [
              "<div>\n",
              "<style scoped>\n",
              "    .dataframe tbody tr th:only-of-type {\n",
              "        vertical-align: middle;\n",
              "    }\n",
              "\n",
              "    .dataframe tbody tr th {\n",
              "        vertical-align: top;\n",
              "    }\n",
              "\n",
              "    .dataframe thead th {\n",
              "        text-align: right;\n",
              "    }\n",
              "</style>\n",
              "<table border=\"1\" class=\"dataframe\">\n",
              "  <thead>\n",
              "    <tr style=\"text-align: right;\">\n",
              "      <th></th>\n",
              "      <th>0</th>\n",
              "      <th>0.1</th>\n",
              "      <th>0.2</th>\n",
              "      <th>0.3</th>\n",
              "      <th>0.4</th>\n",
              "      <th>0.5</th>\n",
              "      <th>0.6</th>\n",
              "      <th>0.7</th>\n",
              "      <th>0.8</th>\n",
              "      <th>0.9</th>\n",
              "      <th>...</th>\n",
              "      <th>0.415</th>\n",
              "      <th>0.416</th>\n",
              "      <th>9.7</th>\n",
              "      <th>8.9</th>\n",
              "      <th>3.22</th>\n",
              "      <th>6.9</th>\n",
              "      <th>7.6</th>\n",
              "      <th>7.7</th>\n",
              "      <th>11.2</th>\n",
              "      <th>4.20</th>\n",
              "    </tr>\n",
              "  </thead>\n",
              "  <tbody>\n",
              "    <tr>\n",
              "      <th>0</th>\n",
              "      <td>0</td>\n",
              "      <td>0</td>\n",
              "      <td>0</td>\n",
              "      <td>0</td>\n",
              "      <td>0</td>\n",
              "      <td>0</td>\n",
              "      <td>0</td>\n",
              "      <td>1</td>\n",
              "      <td>5</td>\n",
              "      <td>4</td>\n",
              "      <td>...</td>\n",
              "      <td>0</td>\n",
              "      <td>0</td>\n",
              "      <td>41</td>\n",
              "      <td>63</td>\n",
              "      <td>64</td>\n",
              "      <td>61</td>\n",
              "      <td>61</td>\n",
              "      <td>63</td>\n",
              "      <td>27</td>\n",
              "      <td>0</td>\n",
              "    </tr>\n",
              "    <tr>\n",
              "      <th>1</th>\n",
              "      <td>0</td>\n",
              "      <td>0</td>\n",
              "      <td>0</td>\n",
              "      <td>0</td>\n",
              "      <td>0</td>\n",
              "      <td>0</td>\n",
              "      <td>0</td>\n",
              "      <td>5</td>\n",
              "      <td>3</td>\n",
              "      <td>3</td>\n",
              "      <td>...</td>\n",
              "      <td>0</td>\n",
              "      <td>0</td>\n",
              "      <td>0</td>\n",
              "      <td>55</td>\n",
              "      <td>53</td>\n",
              "      <td>61</td>\n",
              "      <td>14</td>\n",
              "      <td>0</td>\n",
              "      <td>0</td>\n",
              "      <td>8</td>\n",
              "    </tr>\n",
              "    <tr>\n",
              "      <th>2</th>\n",
              "      <td>0</td>\n",
              "      <td>0</td>\n",
              "      <td>0</td>\n",
              "      <td>0</td>\n",
              "      <td>0</td>\n",
              "      <td>0</td>\n",
              "      <td>0</td>\n",
              "      <td>0</td>\n",
              "      <td>0</td>\n",
              "      <td>0</td>\n",
              "      <td>...</td>\n",
              "      <td>36</td>\n",
              "      <td>39</td>\n",
              "      <td>39</td>\n",
              "      <td>14</td>\n",
              "      <td>0</td>\n",
              "      <td>0</td>\n",
              "      <td>5</td>\n",
              "      <td>5</td>\n",
              "      <td>0</td>\n",
              "      <td>0</td>\n",
              "    </tr>\n",
              "    <tr>\n",
              "      <th>3</th>\n",
              "      <td>0</td>\n",
              "      <td>0</td>\n",
              "      <td>0</td>\n",
              "      <td>0</td>\n",
              "      <td>0</td>\n",
              "      <td>0</td>\n",
              "      <td>0</td>\n",
              "      <td>0</td>\n",
              "      <td>0</td>\n",
              "      <td>0</td>\n",
              "      <td>...</td>\n",
              "      <td>7</td>\n",
              "      <td>9</td>\n",
              "      <td>7</td>\n",
              "      <td>0</td>\n",
              "      <td>0</td>\n",
              "      <td>5</td>\n",
              "      <td>4</td>\n",
              "      <td>3</td>\n",
              "      <td>1</td>\n",
              "      <td>1</td>\n",
              "    </tr>\n",
              "    <tr>\n",
              "      <th>4</th>\n",
              "      <td>0</td>\n",
              "      <td>5</td>\n",
              "      <td>3</td>\n",
              "      <td>2</td>\n",
              "      <td>4</td>\n",
              "      <td>10</td>\n",
              "      <td>0</td>\n",
              "      <td>0</td>\n",
              "      <td>0</td>\n",
              "      <td>0</td>\n",
              "      <td>...</td>\n",
              "      <td>43</td>\n",
              "      <td>40</td>\n",
              "      <td>48</td>\n",
              "      <td>34</td>\n",
              "      <td>0</td>\n",
              "      <td>0</td>\n",
              "      <td>0</td>\n",
              "      <td>3</td>\n",
              "      <td>0</td>\n",
              "      <td>0</td>\n",
              "    </tr>\n",
              "    <tr>\n",
              "      <th>...</th>\n",
              "      <td>...</td>\n",
              "      <td>...</td>\n",
              "      <td>...</td>\n",
              "      <td>...</td>\n",
              "      <td>...</td>\n",
              "      <td>...</td>\n",
              "      <td>...</td>\n",
              "      <td>...</td>\n",
              "      <td>...</td>\n",
              "      <td>...</td>\n",
              "      <td>...</td>\n",
              "      <td>...</td>\n",
              "      <td>...</td>\n",
              "      <td>...</td>\n",
              "      <td>...</td>\n",
              "      <td>...</td>\n",
              "      <td>...</td>\n",
              "      <td>...</td>\n",
              "      <td>...</td>\n",
              "      <td>...</td>\n",
              "      <td>...</td>\n",
              "    </tr>\n",
              "    <tr>\n",
              "      <th>4546</th>\n",
              "      <td>34</td>\n",
              "      <td>0</td>\n",
              "      <td>0</td>\n",
              "      <td>0</td>\n",
              "      <td>0</td>\n",
              "      <td>0</td>\n",
              "      <td>5</td>\n",
              "      <td>0</td>\n",
              "      <td>51</td>\n",
              "      <td>82</td>\n",
              "      <td>...</td>\n",
              "      <td>0</td>\n",
              "      <td>0</td>\n",
              "      <td>0</td>\n",
              "      <td>0</td>\n",
              "      <td>0</td>\n",
              "      <td>0</td>\n",
              "      <td>0</td>\n",
              "      <td>0</td>\n",
              "      <td>0</td>\n",
              "      <td>0</td>\n",
              "    </tr>\n",
              "    <tr>\n",
              "      <th>4547</th>\n",
              "      <td>34</td>\n",
              "      <td>0</td>\n",
              "      <td>0</td>\n",
              "      <td>0</td>\n",
              "      <td>0</td>\n",
              "      <td>0</td>\n",
              "      <td>0</td>\n",
              "      <td>0</td>\n",
              "      <td>0</td>\n",
              "      <td>0</td>\n",
              "      <td>...</td>\n",
              "      <td>6</td>\n",
              "      <td>5</td>\n",
              "      <td>7</td>\n",
              "      <td>0</td>\n",
              "      <td>2</td>\n",
              "      <td>1</td>\n",
              "      <td>0</td>\n",
              "      <td>0</td>\n",
              "      <td>0</td>\n",
              "      <td>0</td>\n",
              "    </tr>\n",
              "    <tr>\n",
              "      <th>4548</th>\n",
              "      <td>34</td>\n",
              "      <td>0</td>\n",
              "      <td>0</td>\n",
              "      <td>0</td>\n",
              "      <td>0</td>\n",
              "      <td>0</td>\n",
              "      <td>0</td>\n",
              "      <td>0</td>\n",
              "      <td>0</td>\n",
              "      <td>0</td>\n",
              "      <td>...</td>\n",
              "      <td>0</td>\n",
              "      <td>0</td>\n",
              "      <td>0</td>\n",
              "      <td>0</td>\n",
              "      <td>5</td>\n",
              "      <td>7</td>\n",
              "      <td>3</td>\n",
              "      <td>1</td>\n",
              "      <td>1</td>\n",
              "      <td>0</td>\n",
              "    </tr>\n",
              "    <tr>\n",
              "      <th>4549</th>\n",
              "      <td>34</td>\n",
              "      <td>0</td>\n",
              "      <td>0</td>\n",
              "      <td>0</td>\n",
              "      <td>0</td>\n",
              "      <td>0</td>\n",
              "      <td>0</td>\n",
              "      <td>0</td>\n",
              "      <td>0</td>\n",
              "      <td>0</td>\n",
              "      <td>...</td>\n",
              "      <td>66</td>\n",
              "      <td>4</td>\n",
              "      <td>0</td>\n",
              "      <td>0</td>\n",
              "      <td>0</td>\n",
              "      <td>0</td>\n",
              "      <td>1</td>\n",
              "      <td>4</td>\n",
              "      <td>1</td>\n",
              "      <td>0</td>\n",
              "    </tr>\n",
              "    <tr>\n",
              "      <th>4550</th>\n",
              "      <td>34</td>\n",
              "      <td>0</td>\n",
              "      <td>0</td>\n",
              "      <td>0</td>\n",
              "      <td>0</td>\n",
              "      <td>3</td>\n",
              "      <td>2</td>\n",
              "      <td>3</td>\n",
              "      <td>12</td>\n",
              "      <td>96</td>\n",
              "      <td>...</td>\n",
              "      <td>0</td>\n",
              "      <td>0</td>\n",
              "      <td>0</td>\n",
              "      <td>0</td>\n",
              "      <td>0</td>\n",
              "      <td>0</td>\n",
              "      <td>2</td>\n",
              "      <td>3</td>\n",
              "      <td>0</td>\n",
              "      <td>0</td>\n",
              "    </tr>\n",
              "  </tbody>\n",
              "</table>\n",
              "<p>4551 rows × 785 columns</p>\n",
              "</div>"
            ],
            "text/plain": [
              "       0  0.1  0.2  0.3  0.4  0.5  0.6  0.7  0.8  0.9  ...  0.415  0.416  9.7  \\\n",
              "0      0    0    0    0    0    0    0    1    5    4  ...      0      0   41   \n",
              "1      0    0    0    0    0    0    0    5    3    3  ...      0      0    0   \n",
              "2      0    0    0    0    0    0    0    0    0    0  ...     36     39   39   \n",
              "3      0    0    0    0    0    0    0    0    0    0  ...      7      9    7   \n",
              "4      0    5    3    2    4   10    0    0    0    0  ...     43     40   48   \n",
              "...   ..  ...  ...  ...  ...  ...  ...  ...  ...  ...  ...    ...    ...  ...   \n",
              "4546  34    0    0    0    0    0    5    0   51   82  ...      0      0    0   \n",
              "4547  34    0    0    0    0    0    0    0    0    0  ...      6      5    7   \n",
              "4548  34    0    0    0    0    0    0    0    0    0  ...      0      0    0   \n",
              "4549  34    0    0    0    0    0    0    0    0    0  ...     66      4    0   \n",
              "4550  34    0    0    0    0    3    2    3   12   96  ...      0      0    0   \n",
              "\n",
              "      8.9  3.22  6.9  7.6  7.7  11.2  4.20  \n",
              "0      63    64   61   61   63    27     0  \n",
              "1      55    53   61   14    0     0     8  \n",
              "2      14     0    0    5    5     0     0  \n",
              "3       0     0    5    4    3     1     1  \n",
              "4      34     0    0    0    3     0     0  \n",
              "...   ...   ...  ...  ...  ...   ...   ...  \n",
              "4546    0     0    0    0    0     0     0  \n",
              "4547    0     2    1    0    0     0     0  \n",
              "4548    0     5    7    3    1     1     0  \n",
              "4549    0     0    0    1    4     1     0  \n",
              "4550    0     0    0    2    3     0     0  \n",
              "\n",
              "[4551 rows x 785 columns]"
            ]
          },
          "execution_count": 31,
          "metadata": {},
          "output_type": "execute_result"
        }
      ],
      "source": [
        "data"
      ]
    },
    {
      "cell_type": "code",
      "execution_count": null,
      "id": "8b39c44e",
      "metadata": {
        "id": "8b39c44e",
        "outputId": "cf42ab78-ef07-45cd-dd67-2a349f6b81b0"
      },
      "outputs": [
        {
          "data": {
            "text/html": [
              "<div>\n",
              "<style scoped>\n",
              "    .dataframe tbody tr th:only-of-type {\n",
              "        vertical-align: middle;\n",
              "    }\n",
              "\n",
              "    .dataframe tbody tr th {\n",
              "        vertical-align: top;\n",
              "    }\n",
              "\n",
              "    .dataframe thead th {\n",
              "        text-align: right;\n",
              "    }\n",
              "</style>\n",
              "<table border=\"1\" class=\"dataframe\">\n",
              "  <thead>\n",
              "    <tr style=\"text-align: right;\">\n",
              "      <th></th>\n",
              "      <th>0</th>\n",
              "      <th>0.1</th>\n",
              "      <th>0.2</th>\n",
              "      <th>0.3</th>\n",
              "      <th>0.4</th>\n",
              "      <th>0.5</th>\n",
              "      <th>0.6</th>\n",
              "      <th>0.7</th>\n",
              "      <th>0.8</th>\n",
              "      <th>0.9</th>\n",
              "      <th>...</th>\n",
              "      <th>0.415</th>\n",
              "      <th>0.416</th>\n",
              "      <th>9.7</th>\n",
              "      <th>8.9</th>\n",
              "      <th>3.22</th>\n",
              "      <th>6.9</th>\n",
              "      <th>7.6</th>\n",
              "      <th>7.7</th>\n",
              "      <th>11.2</th>\n",
              "      <th>4.20</th>\n",
              "    </tr>\n",
              "  </thead>\n",
              "  <tbody>\n",
              "    <tr>\n",
              "      <th>0</th>\n",
              "      <td>0</td>\n",
              "      <td>0</td>\n",
              "      <td>0</td>\n",
              "      <td>0</td>\n",
              "      <td>0</td>\n",
              "      <td>0</td>\n",
              "      <td>0</td>\n",
              "      <td>1</td>\n",
              "      <td>5</td>\n",
              "      <td>4</td>\n",
              "      <td>...</td>\n",
              "      <td>0</td>\n",
              "      <td>0</td>\n",
              "      <td>41</td>\n",
              "      <td>63</td>\n",
              "      <td>64</td>\n",
              "      <td>61</td>\n",
              "      <td>61</td>\n",
              "      <td>63</td>\n",
              "      <td>27</td>\n",
              "      <td>0</td>\n",
              "    </tr>\n",
              "    <tr>\n",
              "      <th>1</th>\n",
              "      <td>0</td>\n",
              "      <td>0</td>\n",
              "      <td>0</td>\n",
              "      <td>0</td>\n",
              "      <td>0</td>\n",
              "      <td>0</td>\n",
              "      <td>0</td>\n",
              "      <td>5</td>\n",
              "      <td>3</td>\n",
              "      <td>3</td>\n",
              "      <td>...</td>\n",
              "      <td>0</td>\n",
              "      <td>0</td>\n",
              "      <td>0</td>\n",
              "      <td>55</td>\n",
              "      <td>53</td>\n",
              "      <td>61</td>\n",
              "      <td>14</td>\n",
              "      <td>0</td>\n",
              "      <td>0</td>\n",
              "      <td>8</td>\n",
              "    </tr>\n",
              "    <tr>\n",
              "      <th>2</th>\n",
              "      <td>0</td>\n",
              "      <td>0</td>\n",
              "      <td>0</td>\n",
              "      <td>0</td>\n",
              "      <td>0</td>\n",
              "      <td>0</td>\n",
              "      <td>0</td>\n",
              "      <td>0</td>\n",
              "      <td>0</td>\n",
              "      <td>0</td>\n",
              "      <td>...</td>\n",
              "      <td>36</td>\n",
              "      <td>39</td>\n",
              "      <td>39</td>\n",
              "      <td>14</td>\n",
              "      <td>0</td>\n",
              "      <td>0</td>\n",
              "      <td>5</td>\n",
              "      <td>5</td>\n",
              "      <td>0</td>\n",
              "      <td>0</td>\n",
              "    </tr>\n",
              "    <tr>\n",
              "      <th>3</th>\n",
              "      <td>0</td>\n",
              "      <td>0</td>\n",
              "      <td>0</td>\n",
              "      <td>0</td>\n",
              "      <td>0</td>\n",
              "      <td>0</td>\n",
              "      <td>0</td>\n",
              "      <td>0</td>\n",
              "      <td>0</td>\n",
              "      <td>0</td>\n",
              "      <td>...</td>\n",
              "      <td>7</td>\n",
              "      <td>9</td>\n",
              "      <td>7</td>\n",
              "      <td>0</td>\n",
              "      <td>0</td>\n",
              "      <td>5</td>\n",
              "      <td>4</td>\n",
              "      <td>3</td>\n",
              "      <td>1</td>\n",
              "      <td>1</td>\n",
              "    </tr>\n",
              "    <tr>\n",
              "      <th>4</th>\n",
              "      <td>0</td>\n",
              "      <td>5</td>\n",
              "      <td>3</td>\n",
              "      <td>2</td>\n",
              "      <td>4</td>\n",
              "      <td>10</td>\n",
              "      <td>0</td>\n",
              "      <td>0</td>\n",
              "      <td>0</td>\n",
              "      <td>0</td>\n",
              "      <td>...</td>\n",
              "      <td>43</td>\n",
              "      <td>40</td>\n",
              "      <td>48</td>\n",
              "      <td>34</td>\n",
              "      <td>0</td>\n",
              "      <td>0</td>\n",
              "      <td>0</td>\n",
              "      <td>3</td>\n",
              "      <td>0</td>\n",
              "      <td>0</td>\n",
              "    </tr>\n",
              "    <tr>\n",
              "      <th>...</th>\n",
              "      <td>...</td>\n",
              "      <td>...</td>\n",
              "      <td>...</td>\n",
              "      <td>...</td>\n",
              "      <td>...</td>\n",
              "      <td>...</td>\n",
              "      <td>...</td>\n",
              "      <td>...</td>\n",
              "      <td>...</td>\n",
              "      <td>...</td>\n",
              "      <td>...</td>\n",
              "      <td>...</td>\n",
              "      <td>...</td>\n",
              "      <td>...</td>\n",
              "      <td>...</td>\n",
              "      <td>...</td>\n",
              "      <td>...</td>\n",
              "      <td>...</td>\n",
              "      <td>...</td>\n",
              "      <td>...</td>\n",
              "      <td>...</td>\n",
              "    </tr>\n",
              "    <tr>\n",
              "      <th>4546</th>\n",
              "      <td>34</td>\n",
              "      <td>0</td>\n",
              "      <td>0</td>\n",
              "      <td>0</td>\n",
              "      <td>0</td>\n",
              "      <td>0</td>\n",
              "      <td>5</td>\n",
              "      <td>0</td>\n",
              "      <td>51</td>\n",
              "      <td>82</td>\n",
              "      <td>...</td>\n",
              "      <td>0</td>\n",
              "      <td>0</td>\n",
              "      <td>0</td>\n",
              "      <td>0</td>\n",
              "      <td>0</td>\n",
              "      <td>0</td>\n",
              "      <td>0</td>\n",
              "      <td>0</td>\n",
              "      <td>0</td>\n",
              "      <td>0</td>\n",
              "    </tr>\n",
              "    <tr>\n",
              "      <th>4547</th>\n",
              "      <td>34</td>\n",
              "      <td>0</td>\n",
              "      <td>0</td>\n",
              "      <td>0</td>\n",
              "      <td>0</td>\n",
              "      <td>0</td>\n",
              "      <td>0</td>\n",
              "      <td>0</td>\n",
              "      <td>0</td>\n",
              "      <td>0</td>\n",
              "      <td>...</td>\n",
              "      <td>6</td>\n",
              "      <td>5</td>\n",
              "      <td>7</td>\n",
              "      <td>0</td>\n",
              "      <td>2</td>\n",
              "      <td>1</td>\n",
              "      <td>0</td>\n",
              "      <td>0</td>\n",
              "      <td>0</td>\n",
              "      <td>0</td>\n",
              "    </tr>\n",
              "    <tr>\n",
              "      <th>4548</th>\n",
              "      <td>34</td>\n",
              "      <td>0</td>\n",
              "      <td>0</td>\n",
              "      <td>0</td>\n",
              "      <td>0</td>\n",
              "      <td>0</td>\n",
              "      <td>0</td>\n",
              "      <td>0</td>\n",
              "      <td>0</td>\n",
              "      <td>0</td>\n",
              "      <td>...</td>\n",
              "      <td>0</td>\n",
              "      <td>0</td>\n",
              "      <td>0</td>\n",
              "      <td>0</td>\n",
              "      <td>5</td>\n",
              "      <td>7</td>\n",
              "      <td>3</td>\n",
              "      <td>1</td>\n",
              "      <td>1</td>\n",
              "      <td>0</td>\n",
              "    </tr>\n",
              "    <tr>\n",
              "      <th>4549</th>\n",
              "      <td>34</td>\n",
              "      <td>0</td>\n",
              "      <td>0</td>\n",
              "      <td>0</td>\n",
              "      <td>0</td>\n",
              "      <td>0</td>\n",
              "      <td>0</td>\n",
              "      <td>0</td>\n",
              "      <td>0</td>\n",
              "      <td>0</td>\n",
              "      <td>...</td>\n",
              "      <td>66</td>\n",
              "      <td>4</td>\n",
              "      <td>0</td>\n",
              "      <td>0</td>\n",
              "      <td>0</td>\n",
              "      <td>0</td>\n",
              "      <td>1</td>\n",
              "      <td>4</td>\n",
              "      <td>1</td>\n",
              "      <td>0</td>\n",
              "    </tr>\n",
              "    <tr>\n",
              "      <th>4550</th>\n",
              "      <td>34</td>\n",
              "      <td>0</td>\n",
              "      <td>0</td>\n",
              "      <td>0</td>\n",
              "      <td>0</td>\n",
              "      <td>3</td>\n",
              "      <td>2</td>\n",
              "      <td>3</td>\n",
              "      <td>12</td>\n",
              "      <td>96</td>\n",
              "      <td>...</td>\n",
              "      <td>0</td>\n",
              "      <td>0</td>\n",
              "      <td>0</td>\n",
              "      <td>0</td>\n",
              "      <td>0</td>\n",
              "      <td>0</td>\n",
              "      <td>2</td>\n",
              "      <td>3</td>\n",
              "      <td>0</td>\n",
              "      <td>0</td>\n",
              "    </tr>\n",
              "  </tbody>\n",
              "</table>\n",
              "<p>4551 rows × 785 columns</p>\n",
              "</div>"
            ],
            "text/plain": [
              "       0  0.1  0.2  0.3  0.4  0.5  0.6  0.7  0.8  0.9  ...  0.415  0.416  9.7  \\\n",
              "0      0    0    0    0    0    0    0    1    5    4  ...      0      0   41   \n",
              "1      0    0    0    0    0    0    0    5    3    3  ...      0      0    0   \n",
              "2      0    0    0    0    0    0    0    0    0    0  ...     36     39   39   \n",
              "3      0    0    0    0    0    0    0    0    0    0  ...      7      9    7   \n",
              "4      0    5    3    2    4   10    0    0    0    0  ...     43     40   48   \n",
              "...   ..  ...  ...  ...  ...  ...  ...  ...  ...  ...  ...    ...    ...  ...   \n",
              "4546  34    0    0    0    0    0    5    0   51   82  ...      0      0    0   \n",
              "4547  34    0    0    0    0    0    0    0    0    0  ...      6      5    7   \n",
              "4548  34    0    0    0    0    0    0    0    0    0  ...      0      0    0   \n",
              "4549  34    0    0    0    0    0    0    0    0    0  ...     66      4    0   \n",
              "4550  34    0    0    0    0    3    2    3   12   96  ...      0      0    0   \n",
              "\n",
              "      8.9  3.22  6.9  7.6  7.7  11.2  4.20  \n",
              "0      63    64   61   61   63    27     0  \n",
              "1      55    53   61   14    0     0     8  \n",
              "2      14     0    0    5    5     0     0  \n",
              "3       0     0    5    4    3     1     1  \n",
              "4      34     0    0    0    3     0     0  \n",
              "...   ...   ...  ...  ...  ...   ...   ...  \n",
              "4546    0     0    0    0    0     0     0  \n",
              "4547    0     2    1    0    0     0     0  \n",
              "4548    0     5    7    3    1     1     0  \n",
              "4549    0     0    0    1    4     1     0  \n",
              "4550    0     0    0    2    3     0     0  \n",
              "\n",
              "[4551 rows x 785 columns]"
            ]
          },
          "execution_count": 34,
          "metadata": {},
          "output_type": "execute_result"
        }
      ],
      "source": [
        "data"
      ]
    },
    {
      "cell_type": "code",
      "execution_count": null,
      "id": "63381634",
      "metadata": {
        "id": "63381634",
        "outputId": "6a5536af-8fdd-467f-84ea-b8b938b0ff4b"
      },
      "outputs": [
        {
          "data": {
            "text/plain": [
              "0        0\n",
              "1        0\n",
              "2        0\n",
              "3        0\n",
              "4        0\n",
              "        ..\n",
              "4546    34\n",
              "4547    34\n",
              "4548    34\n",
              "4549    34\n",
              "4550    34\n",
              "Name: 0, Length: 4551, dtype: int64"
            ]
          },
          "execution_count": 35,
          "metadata": {},
          "output_type": "execute_result"
        }
      ],
      "source": [
        "data[\"0\"]"
      ]
    },
    {
      "cell_type": "code",
      "execution_count": null,
      "id": "036aabea",
      "metadata": {
        "id": "036aabea"
      },
      "outputs": [],
      "source": [
        "from numpy import loadtxt\n",
        "Image = loadtxt(r'C:\\Users\\ARAS STORE\\Desktop\\Folders\\DataSet_K.OCR_DSML_project\\DataSet\\kurdish_alphabetical.csv', delimiter=',')\n",
        "\n",
        "X=Image[:,1:]"
      ]
    },
    {
      "cell_type": "code",
      "execution_count": null,
      "id": "a0e0679d",
      "metadata": {
        "id": "a0e0679d",
        "outputId": "edbaed7e-2c52-4ba0-8da9-84fa9ef9cad8"
      },
      "outputs": [
        {
          "data": {
            "text/plain": [
              "array([[ 0.,  0.,  0., ...,  7., 11.,  4.],\n",
              "       [ 0.,  0.,  0., ..., 63., 27.,  0.],\n",
              "       [ 0.,  0.,  0., ...,  0.,  0.,  8.],\n",
              "       ...,\n",
              "       [ 0.,  0.,  0., ...,  1.,  1.,  0.],\n",
              "       [ 0.,  0.,  0., ...,  4.,  1.,  0.],\n",
              "       [ 0.,  0.,  0., ...,  3.,  0.,  0.]])"
            ]
          },
          "execution_count": 37,
          "metadata": {},
          "output_type": "execute_result"
        }
      ],
      "source": [
        "X"
      ]
    },
    {
      "cell_type": "code",
      "execution_count": null,
      "id": "70b9f68a",
      "metadata": {
        "id": "70b9f68a",
        "outputId": "448fb955-dfa6-40f3-ffc3-cb1e76ffcef6"
      },
      "outputs": [
        {
          "name": "stdout",
          "output_type": "stream",
          "text": [
            "2\n"
          ]
        },
        {
          "data": {
            "image/png": "[encoded data removed]",
            "text/plain": [
              "<Figure size 432x288 with 1 Axes>"
            ]
          },
          "metadata": {
            "needs_background": "light"
          },
          "output_type": "display_data"
        },
        {
          "name": "stdout",
          "output_type": "stream",
          "text": [
            "103\n",
            "counter: 1\n",
            "104\n"
          ]
        },
        {
          "data": {
            "image/png": "[encoded data removed]",
            "text/plain": [
              "<Figure size 432x288 with 1 Axes>"
            ]
          },
          "metadata": {
            "needs_background": "light"
          },
          "output_type": "display_data"
        },
        {
          "name": "stdout",
          "output_type": "stream",
          "text": [
            "205\n",
            "counter: 2\n",
            "206\n"
          ]
        },
        {
          "data": {
            "image/png": "[encoded data removed]",
            "text/plain": [
              "<Figure size 432x288 with 1 Axes>"
            ]
          },
          "metadata": {
            "needs_background": "light"
          },
          "output_type": "display_data"
        },
        {
          "name": "stdout",
          "output_type": "stream",
          "text": [
            "307\n",
            "counter: 3\n",
            "308\n"
          ]
        },
        {
          "data": {
            "image/png": "[encoded data removed]",
            "text/plain": [
              "<Figure size 432x288 with 1 Axes>"
            ]
          },
          "metadata": {
            "needs_background": "light"
          },
          "output_type": "display_data"
        },
        {
          "name": "stdout",
          "output_type": "stream",
          "text": [
            "409\n",
            "counter: 4\n",
            "410\n"
          ]
        },
        {
          "data": {
            "image/png": "[encoded data removed]",
            "text/plain": [
              "<Figure size 432x288 with 1 Axes>"
            ]
          },
          "metadata": {
            "needs_background": "light"
          },
          "output_type": "display_data"
        },
        {
          "name": "stdout",
          "output_type": "stream",
          "text": [
            "511\n",
            "counter: 5\n",
            "512\n"
          ]
        },
        {
          "data": {
            "image/png": "[encoded data removed]",
            "text/plain": [
              "<Figure size 432x288 with 1 Axes>"
            ]
          },
          "metadata": {
            "needs_background": "light"
          },
          "output_type": "display_data"
        },
        {
          "name": "stdout",
          "output_type": "stream",
          "text": [
            "613\n",
            "counter: 6\n",
            "614\n"
          ]
        },
        {
          "data": {
            "image/png": "[encoded data removed]",
            "text/plain": [
              "<Figure size 432x288 with 1 Axes>"
            ]
          },
          "metadata": {
            "needs_background": "light"
          },
          "output_type": "display_data"
        },
        {
          "name": "stdout",
          "output_type": "stream",
          "text": [
            "715\n",
            "counter: 7\n",
            "716\n"
          ]
        },
        {
          "data": {
            "image/png": "[encoded data removed]",
            "text/plain": [
              "<Figure size 432x288 with 1 Axes>"
            ]
          },
          "metadata": {
            "needs_background": "light"
          },
          "output_type": "display_data"
        },
        {
          "name": "stdout",
          "output_type": "stream",
          "text": [
            "817\n",
            "counter: 8\n",
            "818\n"
          ]
        },
        {
          "data": {
            "image/png": "[encoded data removed]",
            "text/plain": [
              "<Figure size 432x288 with 1 Axes>"
            ]
          },
          "metadata": {
            "needs_background": "light"
          },
          "output_type": "display_data"
        },
        {
          "name": "stdout",
          "output_type": "stream",
          "text": [
            "919\n",
            "counter: 9\n",
            "920\n"
          ]
        },
        {
          "data": {
            "image/png": "[encoded data removed]",
            "text/plain": [
              "<Figure size 432x288 with 1 Axes>"
            ]
          },
          "metadata": {
            "needs_background": "light"
          },
          "output_type": "display_data"
        },
        {
          "name": "stdout",
          "output_type": "stream",
          "text": [
            "1021\n",
            "counter: 10\n",
            "1022\n"
          ]
        },
        {
          "data": {
            "image/png": "[encoded data removed]",
            "text/plain": [
              "<Figure size 432x288 with 1 Axes>"
            ]
          },
          "metadata": {
            "needs_background": "light"
          },
          "output_type": "display_data"
        },
        {
          "name": "stdout",
          "output_type": "stream",
          "text": [
            "1123\n",
            "counter: 11\n",
            "1124\n"
          ]
        },
        {
          "data": {
            "image/png": "[encoded data removed]",
            "text/plain": [
              "<Figure size 432x288 with 1 Axes>"
            ]
          },
          "metadata": {
            "needs_background": "light"
          },
          "output_type": "display_data"
        },
        {
          "name": "stdout",
          "output_type": "stream",
          "text": [
            "1225\n",
            "counter: 12\n",
            "1226\n"
          ]
        },
        {
          "data": {
            "image/png": "[encoded data removed]",
            "text/plain": [
              "<Figure size 432x288 with 1 Axes>"
            ]
          },
          "metadata": {
            "needs_background": "light"
          },
          "output_type": "display_data"
        },
        {
          "name": "stdout",
          "output_type": "stream",
          "text": [
            "1327\n",
            "counter: 13\n",
            "1328\n"
          ]
        },
        {
          "data": {
            "image/png": "[encoded data removed]",
            "text/plain": [
              "<Figure size 432x288 with 1 Axes>"
            ]
          },
          "metadata": {
            "needs_background": "light"
          },
          "output_type": "display_data"
        },
        {
          "name": "stdout",
          "output_type": "stream",
          "text": [
            "1429\n",
            "counter: 14\n",
            "1430\n"
          ]
        },
        {
          "data": {
            "image/png": "[encoded data removed]",
            "text/plain": [
              "<Figure size 432x288 with 1 Axes>"
            ]
          },
          "metadata": {
            "needs_background": "light"
          },
          "output_type": "display_data"
        },
        {
          "name": "stdout",
          "output_type": "stream",
          "text": [
            "1531\n",
            "counter: 15\n",
            "1532\n"
          ]
        },
        {
          "data": {
            "image/png": "[encoded data removed]",
            "text/plain": [
              "<Figure size 432x288 with 1 Axes>"
            ]
          },
          "metadata": {
            "needs_background": "light"
          },
          "output_type": "display_data"
        },
        {
          "name": "stdout",
          "output_type": "stream",
          "text": [
            "1633\n",
            "counter: 16\n",
            "1634\n"
          ]
        },
        {
          "data": {
            "image/png": "[encoded data removed]",
            "text/plain": [
              "<Figure size 432x288 with 1 Axes>"
            ]
          },
          "metadata": {
            "needs_background": "light"
          },
          "output_type": "display_data"
        },
        {
          "name": "stdout",
          "output_type": "stream",
          "text": [
            "1735\n",
            "counter: 17\n",
            "1736\n"
          ]
        },
        {
          "data": {
            "image/png": "[encoded data removed]",
            "text/plain": [
              "<Figure size 432x288 with 1 Axes>"
            ]
          },
          "metadata": {
            "needs_background": "light"
          },
          "output_type": "display_data"
        },
        {
          "name": "stdout",
          "output_type": "stream",
          "text": [
            "1837\n",
            "counter: 18\n",
            "1838\n"
          ]
        },
        {
          "data": {
            "image/png": "[encoded data removed]",
            "text/plain": [
              "<Figure size 432x288 with 1 Axes>"
            ]
          },
          "metadata": {
            "needs_background": "light"
          },
          "output_type": "display_data"
        },
        {
          "name": "stdout",
          "output_type": "stream",
          "text": [
            "1939\n",
            "counter: 19\n",
            "1940\n"
          ]
        },
        {
          "data": {
            "image/png": "[encoded data removed]",
            "text/plain": [
              "<Figure size 432x288 with 1 Axes>"
            ]
          },
          "metadata": {
            "needs_background": "light"
          },
          "output_type": "display_data"
        },
        {
          "name": "stdout",
          "output_type": "stream",
          "text": [
            "2041\n",
            "counter: 20\n",
            "2042\n"
          ]
        },
        {
          "data": {
            "image/png": "[encoded data removed]",
            "text/plain": [
              "<Figure size 432x288 with 1 Axes>"
            ]
          },
          "metadata": {
            "needs_background": "light"
          },
          "output_type": "display_data"
        },
        {
          "name": "stdout",
          "output_type": "stream",
          "text": [
            "2143\n",
            "counter: 21\n",
            "2144\n"
          ]
        },
        {
          "data": {
            "image/png": "[encoded data removed]",
            "text/plain": [
              "<Figure size 432x288 with 1 Axes>"
            ]
          },
          "metadata": {
            "needs_background": "light"
          },
          "output_type": "display_data"
        },
        {
          "name": "stdout",
          "output_type": "stream",
          "text": [
            "2245\n",
            "counter: 22\n",
            "2246\n"
          ]
        },
        {
          "data": {
            "image/png": "[encoded data removed]",
            "text/plain": [
              "<Figure size 432x288 with 1 Axes>"
            ]
          },
          "metadata": {
            "needs_background": "light"
          },
          "output_type": "display_data"
        },
        {
          "name": "stdout",
          "output_type": "stream",
          "text": [
            "2347\n",
            "counter: 23\n",
            "2348\n"
          ]
        },
        {
          "data": {
            "image/png": "[encoded data removed]",
            "text/plain": [
              "<Figure size 432x288 with 1 Axes>"
            ]
          },
          "metadata": {
            "needs_background": "light"
          },
          "output_type": "display_data"
        },
        {
          "name": "stdout",
          "output_type": "stream",
          "text": [
            "2449\n",
            "counter: 24\n",
            "2450\n"
          ]
        },
        {
          "data": {
            "image/png": "[encoded data removed]",
            "text/plain": [
              "<Figure size 432x288 with 1 Axes>"
            ]
          },
          "metadata": {
            "needs_background": "light"
          },
          "output_type": "display_data"
        },
        {
          "name": "stdout",
          "output_type": "stream",
          "text": [
            "2551\n",
            "counter: 25\n",
            "2552\n"
          ]
        },
        {
          "data": {
            "image/png": "[encoded data removed]",
            "text/plain": [
              "<Figure size 432x288 with 1 Axes>"
            ]
          },
          "metadata": {
            "needs_background": "light"
          },
          "output_type": "display_data"
        },
        {
          "name": "stdout",
          "output_type": "stream",
          "text": [
            "2653\n",
            "counter: 26\n",
            "2654\n"
          ]
        },
        {
          "data": {
            "image/png": "[encoded data removed]",
            "text/plain": [
              "<Figure size 432x288 with 1 Axes>"
            ]
          },
          "metadata": {
            "needs_background": "light"
          },
          "output_type": "display_data"
        },
        {
          "name": "stdout",
          "output_type": "stream",
          "text": [
            "2755\n",
            "counter: 27\n",
            "2756\n"
          ]
        },
        {
          "data": {
            "image/png": "[encoded data removed]",
            "text/plain": [
              "<Figure size 432x288 with 1 Axes>"
            ]
          },
          "metadata": {
            "needs_background": "light"
          },
          "output_type": "display_data"
        },
        {
          "name": "stdout",
          "output_type": "stream",
          "text": [
            "2857\n",
            "counter: 28\n",
            "2858\n"
          ]
        },
        {
          "data": {
            "image/png": "[encoded data removed]",
            "text/plain": [
              "<Figure size 432x288 with 1 Axes>"
            ]
          },
          "metadata": {
            "needs_background": "light"
          },
          "output_type": "display_data"
        },
        {
          "name": "stdout",
          "output_type": "stream",
          "text": [
            "2959\n",
            "counter: 29\n",
            "2960\n"
          ]
        },
        {
          "data": {
            "image/png": "[encoded data removed]",
            "text/plain": [
              "<Figure size 432x288 with 1 Axes>"
            ]
          },
          "metadata": {
            "needs_background": "light"
          },
          "output_type": "display_data"
        },
        {
          "name": "stdout",
          "output_type": "stream",
          "text": [
            "3061\n",
            "counter: 30\n",
            "3062\n"
          ]
        },
        {
          "data": {
            "image/png": "[encoded data removed]",
            "text/plain": [
              "<Figure size 432x288 with 1 Axes>"
            ]
          },
          "metadata": {
            "needs_background": "light"
          },
          "output_type": "display_data"
        },
        {
          "name": "stdout",
          "output_type": "stream",
          "text": [
            "3163\n",
            "counter: 31\n",
            "3164\n"
          ]
        },
        {
          "data": {
            "image/png": "[encoded data removed]",
            "text/plain": [
              "<Figure size 432x288 with 1 Axes>"
            ]
          },
          "metadata": {
            "needs_background": "light"
          },
          "output_type": "display_data"
        },
        {
          "name": "stdout",
          "output_type": "stream",
          "text": [
            "3265\n",
            "counter: 32\n",
            "3266\n"
          ]
        },
        {
          "data": {
            "image/png": "[encoded data removed]",
            "text/plain": [
              "<Figure size 432x288 with 1 Axes>"
            ]
          },
          "metadata": {
            "needs_background": "light"
          },
          "output_type": "display_data"
        },
        {
          "name": "stdout",
          "output_type": "stream",
          "text": [
            "3367\n",
            "counter: 33\n",
            "3368\n"
          ]
        },
        {
          "data": {
            "image/png": "[encoded data removed]",
            "text/plain": [
              "<Figure size 432x288 with 1 Axes>"
            ]
          },
          "metadata": {
            "needs_background": "light"
          },
          "output_type": "display_data"
        },
        {
          "name": "stdout",
          "output_type": "stream",
          "text": [
            "3469\n",
            "counter: 34\n",
            "3470\n"
          ]
        },
        {
          "data": {
            "image/png": "[encoded data removed]",
            "text/plain": [
              "<Figure size 432x288 with 1 Axes>"
            ]
          },
          "metadata": {
            "needs_background": "light"
          },
          "output_type": "display_data"
        },
        {
          "name": "stdout",
          "output_type": "stream",
          "text": [
            "3571\n",
            "counter: 35\n"
          ]
        }
      ],
      "source": [
        "# Let's all letter images in the csv file  \n",
        "counter = 1\n",
        "for i in range(1,3571,102):\n",
        "    print(i+1)\n",
        "    x = X[i].reshape((28,28))\n",
        "    plt.imshow(x, cmap='gray')\n",
        "    plt.show()\n",
        "    print(i+102)\n",
        "    print(f\"counter: {counter}\")\n",
        "    counter +=1"
      ]
    },
    {
      "cell_type": "code",
      "execution_count": null,
      "id": "be50054e",
      "metadata": {
        "id": "be50054e",
        "outputId": "d5e4e0ba-7573-437d-8042-afa2cd6c53c0"
      },
      "outputs": [
        {
          "data": {
            "text/plain": [
              "<matplotlib.image.AxesImage at 0x25f29f46460>"
            ]
          },
          "execution_count": 38,
          "metadata": {},
          "output_type": "execute_result"
        },
        {
          "data": {
            "image/png": "[encoded data removed]",
            "text/plain": [
              "<Figure size 432x288 with 1 Axes>"
            ]
          },
          "metadata": {
            "needs_background": "light"
          },
          "output_type": "display_data"
        }
      ],
      "source": [
        "plt.imshow(X[613].reshape(28,28))"
      ]
    },
    {
      "cell_type": "code",
      "execution_count": null,
      "id": "4ef90ffb",
      "metadata": {
        "id": "4ef90ffb"
      },
      "outputs": [],
      "source": []
    },
    {
      "cell_type": "markdown",
      "id": "221e486b",
      "metadata": {
        "id": "221e486b"
      },
      "source": [
        "# SVM (support vectore machine)"
      ]
    },
    {
      "cell_type": "code",
      "execution_count": null,
      "id": "ff912615",
      "metadata": {
        "id": "ff912615"
      },
      "outputs": [],
      "source": [
        "from sklearn.model_selection import train_test_split\n",
        "x = data.iloc[:,1:]\n",
        "y = data[\"0\"]\n",
        "\n",
        "xtrain, xtest, ytrain, ytest = train_test_split(x, y, test_size=0.33, random_state=0)"
      ]
    },
    {
      "cell_type": "code",
      "execution_count": null,
      "id": "79fc9127",
      "metadata": {
        "id": "79fc9127",
        "outputId": "e5dcf916-316d-4b8a-8416-52921a1d54cd"
      },
      "outputs": [
        {
          "data": {
            "text/plain": [
              "(3049, 784)"
            ]
          },
          "execution_count": 17,
          "metadata": {},
          "output_type": "execute_result"
        }
      ],
      "source": [
        "xtrain.shape"
      ]
    },
    {
      "cell_type": "code",
      "execution_count": null,
      "id": "d18c0e34",
      "metadata": {
        "id": "d18c0e34",
        "outputId": "f3763d01-bcff-4f80-e5c4-6cc7b3129ac0"
      },
      "outputs": [
        {
          "data": {
            "text/plain": [
              "(1502, 784)"
            ]
          },
          "execution_count": 18,
          "metadata": {},
          "output_type": "execute_result"
        }
      ],
      "source": [
        "xtest.shape"
      ]
    },
    {
      "cell_type": "code",
      "execution_count": null,
      "id": "5fda0367",
      "metadata": {
        "id": "5fda0367"
      },
      "outputs": [],
      "source": [
        "from sklearn.preprocessing import StandardScaler\n",
        "from sklearn import preprocessing\n",
        "\n",
        "stX = StandardScaler()\n",
        "xtrain = stX.fit_transform(xtrain)\n",
        "xtest = stX.transform(xtest)"
      ]
    },
    {
      "cell_type": "code",
      "execution_count": null,
      "id": "7e7c8f9a",
      "metadata": {
        "id": "7e7c8f9a"
      },
      "outputs": [],
      "source": []
    },
    {
      "cell_type": "code",
      "execution_count": null,
      "id": "f241a163",
      "metadata": {
        "id": "f241a163",
        "outputId": "584c4c10-ffbb-4f8f-bf60-c4967f2822fc"
      },
      "outputs": [
        {
          "data": {
            "text/plain": [
              "SVC(kernel='linear', random_state=0)"
            ]
          },
          "execution_count": 41,
          "metadata": {},
          "output_type": "execute_result"
        }
      ],
      "source": [
        "from sklearn.svm import SVC\n",
        "\n",
        "classifier = SVC(kernel = 'linear', random_state=0)\n",
        "classifier.fit(xtrain,ytrain)"
      ]
    },
    {
      "cell_type": "code",
      "execution_count": null,
      "id": "05fbd58d",
      "metadata": {
        "id": "05fbd58d"
      },
      "outputs": [],
      "source": [
        "ypred = classifier.predict(xtest)"
      ]
    },
    {
      "cell_type": "code",
      "execution_count": null,
      "id": "c2794496",
      "metadata": {
        "id": "c2794496",
        "outputId": "8214d688-4170-46f3-a03d-ad1f63169de1"
      },
      "outputs": [
        {
          "data": {
            "text/plain": [
              "array([12, 30, 13, ...,  7,  8,  8], dtype=int64)"
            ]
          },
          "execution_count": 43,
          "metadata": {},
          "output_type": "execute_result"
        }
      ],
      "source": [
        "ypred"
      ]
    },
    {
      "cell_type": "code",
      "execution_count": null,
      "id": "a1fa57dd",
      "metadata": {
        "id": "a1fa57dd",
        "outputId": "7eb48558-c982-45ae-f366-0a4680dd2fe7"
      },
      "outputs": [
        {
          "data": {
            "text/plain": [
              "6"
            ]
          },
          "execution_count": 44,
          "metadata": {},
          "output_type": "execute_result"
        }
      ],
      "source": [
        "ypred[3]"
      ]
    },
    {
      "cell_type": "code",
      "execution_count": null,
      "id": "1d90e53e",
      "metadata": {
        "id": "1d90e53e",
        "outputId": "409eeaf1-9f2f-434c-c52e-7cfdc0eccd07"
      },
      "outputs": [
        {
          "data": {
            "text/plain": [
              "<matplotlib.image.AxesImage at 0x25f3e74b1c0>"
            ]
          },
          "execution_count": 45,
          "metadata": {},
          "output_type": "execute_result"
        },
        {
          "data": {
            "image/png": "[encoded data removed]",
            "text/plain": [
              "<Figure size 432x288 with 1 Axes>"
            ]
          },
          "metadata": {
            "needs_background": "light"
          },
          "output_type": "display_data"
        }
      ],
      "source": [
        "plt.imshow(xtest[7].reshape(28,28))"
      ]
    },
    {
      "cell_type": "code",
      "execution_count": null,
      "id": "62617783",
      "metadata": {
        "id": "62617783",
        "outputId": "ef37a1e7-84ec-4ccf-df62-22bb5e1a1695"
      },
      "outputs": [
        {
          "data": {
            "text/plain": [
              "1669    12\n",
              "3963    30\n",
              "1713    13\n",
              "873      6\n",
              "2777    21\n",
              "        ..\n",
              "4543    34\n",
              "2347    17\n",
              "1015     7\n",
              "1081     8\n",
              "1087     8\n",
              "Name: 0, Length: 1502, dtype: int64"
            ]
          },
          "execution_count": 18,
          "metadata": {},
          "output_type": "execute_result"
        }
      ],
      "source": [
        "ytest"
      ]
    },
    {
      "cell_type": "code",
      "execution_count": null,
      "id": "fdfe0c60",
      "metadata": {
        "id": "fdfe0c60"
      },
      "outputs": [],
      "source": [
        "score = classifier.score(xtest,ytest)"
      ]
    },
    {
      "cell_type": "code",
      "execution_count": null,
      "id": "23c38a0f",
      "metadata": {
        "id": "23c38a0f",
        "outputId": "9aa264b2-ae0c-4713-c089-9410f497ca42"
      },
      "outputs": [
        {
          "data": {
            "text/plain": [
              "0.7423435419440746"
            ]
          },
          "execution_count": 20,
          "metadata": {},
          "output_type": "execute_result"
        }
      ],
      "source": [
        "score"
      ]
    },
    {
      "cell_type": "code",
      "execution_count": null,
      "id": "98f897db",
      "metadata": {
        "id": "98f897db",
        "outputId": "922ef097-e4d5-4241-f83c-acd01dcb3b61"
      },
      "outputs": [
        {
          "data": {
            "text/plain": [
              "array([18], dtype=int64)"
            ]
          },
          "execution_count": 21,
          "metadata": {},
          "output_type": "execute_result"
        }
      ],
      "source": [
        "classifier.predict([xtest[31]])"
      ]
    },
    {
      "cell_type": "code",
      "execution_count": null,
      "id": "ceae684a",
      "metadata": {
        "id": "ceae684a"
      },
      "outputs": [],
      "source": []
    },
    {
      "cell_type": "code",
      "execution_count": null,
      "id": "dac7cfce",
      "metadata": {
        "id": "dac7cfce"
      },
      "outputs": [],
      "source": [
        "import pandas as pd\n",
        "from yellowbrick.classifier import ConfusionMatrix\n",
        "import matplotlib.pyplot as plt\n",
        "from sklearn import model_selection\n",
        "from sklearn.metrics import classification_report\n",
        "from sklearn.metrics import confusion_matrix\n",
        "from sklearn.metrics import accuracy_score\n",
        "from sklearn.svm import SVC"
      ]
    },
    {
      "cell_type": "code",
      "execution_count": null,
      "id": "6e8c53b2",
      "metadata": {
        "id": "6e8c53b2"
      },
      "outputs": [],
      "source": [
        "svc = SVC(kernel='rbf', gamma='auto', C=6)"
      ]
    },
    {
      "cell_type": "code",
      "execution_count": null,
      "id": "86e9fad5",
      "metadata": {
        "id": "86e9fad5"
      },
      "outputs": [],
      "source": [
        "cm = ConfusionMatrix(svc, classes=\"0,1,2,3,4,5,6,7,8,9,10,11,12,13,14,15,16,17,18,19,20,21,22,23,24,25,26,27,28,29,30,31,32,33,34\".split(','))\n"
      ]
    },
    {
      "cell_type": "code",
      "execution_count": null,
      "id": "918aa19d",
      "metadata": {
        "id": "918aa19d"
      },
      "outputs": [],
      "source": []
    },
    {
      "cell_type": "code",
      "execution_count": null,
      "id": "50f0e83e",
      "metadata": {
        "id": "50f0e83e",
        "outputId": "3d61ef62-c7c6-4c77-a77f-b6bc25b35f2d"
      },
      "outputs": [
        {
          "data": {
            "text/plain": [
              "ConfusionMatrix(ax=<AxesSubplot:>,\n",
              "                classes=['0', '1', '2', '3', '4', '5', '6', '7', '8', '9', '10',\n",
              "                         '11', '12', '13', '14', '15', '16', '17', '18', '19',\n",
              "                         '20', '21', '22', '23', '24', '25', '26', '27', '28',\n",
              "                         '29', ...],\n",
              "                cmap=<matplotlib.colors.ListedColormap object at 0x000002047213BFA0>,\n",
              "                estimator=SVC(C=6, gamma='auto'))"
            ]
          },
          "execution_count": 26,
          "metadata": {},
          "output_type": "execute_result"
        },
        {
          "data": {
            "image/png": "[encoded data removed]",
            "text/plain": [
              "<Figure size 576x396 with 1 Axes>"
            ]
          },
          "metadata": {},
          "output_type": "display_data"
        }
      ],
      "source": [
        "cm.fit(xtrain, ytrain)"
      ]
    },
    {
      "cell_type": "code",
      "execution_count": null,
      "id": "9021e49e",
      "metadata": {
        "id": "9021e49e",
        "outputId": "6b3df764-e27e-4fbf-838d-3ace15bdce17"
      },
      "outputs": [
        {
          "data": {
            "text/plain": [
              "0.7716378162450066"
            ]
          },
          "execution_count": 27,
          "metadata": {},
          "output_type": "execute_result"
        }
      ],
      "source": [
        "cm.score(xtest, ytest)"
      ]
    },
    {
      "cell_type": "code",
      "execution_count": null,
      "id": "4fbaad61",
      "metadata": {
        "id": "4fbaad61"
      },
      "outputs": [],
      "source": [
        "predictions = cm.predict(xtest)"
      ]
    },
    {
      "cell_type": "code",
      "execution_count": null,
      "id": "2a541b7b",
      "metadata": {
        "id": "2a541b7b",
        "outputId": "44a0d946-b85b-498b-cdb2-705e586b4d39"
      },
      "outputs": [
        {
          "name": "stdout",
          "output_type": "stream",
          "text": [
            "Accuracy:  0.7716378162450066\n"
          ]
        }
      ],
      "source": [
        "print(\"Accuracy: \", accuracy_score(ytest, predictions))"
      ]
    },
    {
      "cell_type": "code",
      "execution_count": null,
      "id": "74649f2a",
      "metadata": {
        "id": "74649f2a",
        "outputId": "12adcd41-5170-49b5-f04d-34f04581f562"
      },
      "outputs": [
        {
          "name": "stdout",
          "output_type": "stream",
          "text": [
            "[[30  1  0 ...  0  0  0]\n",
            " [ 1 49  0 ...  0  0  0]\n",
            " [ 0  0 34 ...  0  0  0]\n",
            " ...\n",
            " [ 0  0  1 ... 26  0  0]\n",
            " [ 0  0  0 ...  0 29  0]\n",
            " [ 0  0  0 ...  0  4 26]]\n"
          ]
        }
      ],
      "source": [
        "print(confusion_matrix(ytest, predictions))"
      ]
    },
    {
      "cell_type": "code",
      "execution_count": null,
      "id": "5f768ced",
      "metadata": {
        "id": "5f768ced"
      },
      "outputs": [],
      "source": []
    },
    {
      "cell_type": "code",
      "execution_count": null,
      "id": "df9afe5e",
      "metadata": {
        "id": "df9afe5e",
        "outputId": "75c1770b-b5bc-42d6-fb4a-d8a77eff13e0"
      },
      "outputs": [
        {
          "name": "stdout",
          "output_type": "stream",
          "text": [
            "              precision    recall  f1-score   support\n",
            "\n",
            "           0    0.76923   0.78947   0.77922        38\n",
            "           1    0.98000   0.92453   0.95146        53\n",
            "           2    0.69388   0.77273   0.73118        44\n",
            "           3    1.00000   1.00000   1.00000        40\n",
            "           4    0.74194   0.41818   0.53488        55\n",
            "           5    0.53333   0.66667   0.59259        36\n",
            "           6    0.82456   0.92157   0.87037        51\n",
            "           7    0.80851   0.84444   0.82609        45\n",
            "           8    0.80851   0.86364   0.83516        44\n",
            "           9    0.62500   0.71429   0.66667        35\n",
            "          10    0.97917   0.92157   0.94949        51\n",
            "          11    0.71739   0.64706   0.68041        51\n",
            "          12    0.67347   0.89189   0.76744        37\n",
            "          13    0.86047   0.86047   0.86047        43\n",
            "          14    0.78947   0.85714   0.82192        35\n",
            "          15    0.78431   0.78431   0.78431        51\n",
            "          16    0.92683   0.86364   0.89412        44\n",
            "          17    0.92308   0.85714   0.88889        42\n",
            "          18    1.00000   0.92857   0.96296        42\n",
            "          19    0.75000   0.81818   0.78261        44\n",
            "          20    0.61905   0.70270   0.65823        37\n",
            "          21    0.64583   0.64583   0.64583        48\n",
            "          22    0.80851   0.77551   0.79167        49\n",
            "          23    0.91304   0.87500   0.89362        48\n",
            "          24    0.44444   0.42105   0.43243        38\n",
            "          25    0.57447   0.72973   0.64286        37\n",
            "          26    0.44737   0.43590   0.44156        39\n",
            "          27    0.68182   0.78947   0.73171        38\n",
            "          28    0.84211   0.61538   0.71111        52\n",
            "          29    0.87179   0.91892   0.89474        37\n",
            "          30    0.87179   0.75556   0.80952        45\n",
            "          31    0.80952   0.89474   0.85000        38\n",
            "          32    0.74286   0.72222   0.73239        36\n",
            "          33    0.61702   0.74359   0.67442        39\n",
            "          34    0.96296   0.65000   0.77612        40\n",
            "\n",
            "    accuracy                        0.77164      1502\n",
            "   macro avg    0.77262   0.77203   0.76761      1502\n",
            "weighted avg    0.78058   0.77164   0.77114      1502\n",
            "\n"
          ]
        },
        {
          "data": {
            "text/plain": [
              "<Figure size 576x396 with 0 Axes>"
            ]
          },
          "metadata": {},
          "output_type": "display_data"
        },
        {
          "data": {
            "text/plain": [
              "<AxesSubplot:title={'center':'SVC Confusion Matrix'}, xlabel='Predicted Class', ylabel='True Class'>"
            ]
          },
          "execution_count": 31,
          "metadata": {},
          "output_type": "execute_result"
        }
      ],
      "source": [
        "print(classification_report(ytest, predictions, digits=5))\n",
        "\n",
        "cm.poof()"
      ]
    },
    {
      "cell_type": "code",
      "execution_count": null,
      "id": "02235461",
      "metadata": {
        "id": "02235461"
      },
      "outputs": [],
      "source": []
    },
    {
      "cell_type": "markdown",
      "id": "22f8e171",
      "metadata": {
        "id": "22f8e171"
      },
      "source": [
        "# Visualization"
      ]
    },
    {
      "cell_type": "code",
      "execution_count": null,
      "id": "7029d002",
      "metadata": {
        "id": "7029d002"
      },
      "outputs": [],
      "source": []
    },
    {
      "cell_type": "code",
      "execution_count": null,
      "id": "9f01813f",
      "metadata": {
        "id": "9f01813f"
      },
      "outputs": [],
      "source": [
        "from sklearn.datasets import fetch_openml\n",
        "from sklearn.model_selection import train_test_split\n",
        "from sklearn import metrics\n",
        "import numpy as np\n",
        "import matplotlib.pyplot as plt"
      ]
    },
    {
      "cell_type": "code",
      "execution_count": null,
      "id": "52d6dc41",
      "metadata": {
        "id": "52d6dc41"
      },
      "outputs": [],
      "source": [
        "from matplotlib.colors import ListedColormap"
      ]
    },
    {
      "cell_type": "code",
      "execution_count": null,
      "id": "8b6dbde3",
      "metadata": {
        "id": "8b6dbde3"
      },
      "outputs": [],
      "source": [
        "cm = metrics.confusion_matrix(ytest,ypred)"
      ]
    },
    {
      "cell_type": "code",
      "execution_count": null,
      "id": "c100394c",
      "metadata": {
        "id": "c100394c",
        "outputId": "6f8ef06d-8f15-49e7-c193-2f669b9d0a16"
      },
      "outputs": [
        {
          "data": {
            "text/plain": [
              "array([[31,  1,  0, ...,  0,  0,  0],\n",
              "       [ 1, 49,  0, ...,  0,  0,  0],\n",
              "       [ 0,  0, 31, ...,  0,  0,  0],\n",
              "       ...,\n",
              "       [ 0,  0,  1, ..., 23,  0,  0],\n",
              "       [ 0,  0,  0, ...,  0, 27,  1],\n",
              "       [ 0,  0,  0, ...,  0,  3, 23]], dtype=int64)"
            ]
          },
          "execution_count": 35,
          "metadata": {},
          "output_type": "execute_result"
        }
      ],
      "source": [
        "cm"
      ]
    },
    {
      "cell_type": "code",
      "execution_count": null,
      "id": "6a02d0cd",
      "metadata": {
        "id": "6a02d0cd",
        "outputId": "d1ead663-5804-4288-9960-0eae7dbc6fbb"
      },
      "outputs": [
        {
          "data": {
            "text/plain": [
              "Text(0.5, 1.0, 'Confusion Matrix for Mnist Data')"
            ]
          },
          "execution_count": 36,
          "metadata": {},
          "output_type": "execute_result"
        },
        {
          "data": {
            "image/png": "[encoded data removed]",
            "text/plain": [
              "<Figure size 720x720 with 1 Axes>"
            ]
          },
          "metadata": {},
          "output_type": "display_data"
        }
      ],
      "source": [
        "plt.figure(figsize=(10,10))\n",
        "plt.imshow(cm,cmap='Dark2_r')\n",
        "plt.title(\"Confusion Matrix for Mnist Data\")"
      ]
    },
    {
      "cell_type": "code",
      "execution_count": null,
      "id": "9668e1ab",
      "metadata": {
        "id": "9668e1ab"
      },
      "outputs": [],
      "source": []
    },
    {
      "cell_type": "code",
      "execution_count": null,
      "id": "c647e368",
      "metadata": {
        "id": "c647e368"
      },
      "outputs": [],
      "source": [
        "# if you want to change the shape of visualization instead of 'Dark2_r' copy and past one of these below\n",
        "'Accent', 'Accent_r', 'Blues', 'Blues_r', 'BrBG', 'BrBG_r', 'BuGn', 'BuGn_r', 'BuPu', 'BuPu_r',\n",
        "'CMRmap', 'CMRmap_r', 'Dark2', 'Dark2_r', 'GnBu', 'GnBu_r', 'Greens', 'Greens_r', 'Greys', 'Greys_r',\n",
        "'OrRd', 'OrRd_r', 'Oranges', 'Oranges_r', 'PRGn', 'PRGn_r', 'Paired', 'Paired_r', 'Pastel1', 'Pastel1_r',\n",
        "'Pastel2', 'Pastel2_r', 'PiYG', 'PiYG_r', 'PuBu', 'PuBuGn', 'PuBuGn_r', 'PuBu_r', 'PuOr', 'PuOr_r', 'PuRd',\n",
        "'PuRd_r', 'Purples', 'Purples_r', 'RdBu', 'RdBu_r', 'RdGy', 'RdGy_r', 'RdPu', 'RdPu_r', 'RdYlBu', \n",
        "'RdYlBu_r', 'RdYlGn', 'RdYlGn_r', 'Reds', 'Reds_r', 'Set1', 'Set1_r', 'Set2', 'Set2_r', 'Set3', \n",
        "'Set3_r', 'Spectral', 'Spectral_r', 'Wistia', 'Wistia_r', 'YlGn', 'YlGnBu', 'YlGnBu_r',\n",
        "'YlGn_r', 'YlOrBr', 'YlOrBr_r', 'YlOrRd', 'YlOrRd_r', 'afmhot', 'afmhot_r', 'autumn', \n",
        "'autumn_r', 'binary', 'binary_r', 'bone', 'bone_r', 'brg', 'brg_r', 'bwr', 'bwr_r', \n",
        "'cividis', 'cividis_r', 'cool', 'cool_r', 'coolwarm', 'coolwarm_r', 'copper',\n",
        "'copper_r', 'cubehelix', 'cubehelix_r', 'flag', 'flag_r', 'gist_earth', 'gist_earth_r',\n",
        "'gist_gray', 'gist_gray_r', 'gist_heat', 'gist_heat_r', 'gist_ncar', 'gist_ncar_r', 'gist_rainbow', \n",
        "'gist_rainbow_r', 'gist_stern', 'gist_stern_r', 'gist_yarg', 'gist_yarg_r', 'gnuplot', 'gnuplot2',\n",
        "'gnuplot2_r', 'gnuplot_r', 'gray', 'gray_r', 'hot', 'hot_r', 'hsv', 'hsv_r', 'inferno', 'inferno_r', \n",
        "'jet', 'jet_r', 'magma', 'magma_r', 'nipy_spectral', 'nipy_spectral_r', 'ocean', 'ocean_r', 'pink', \n",
        "'pink_r', 'plasma', 'plasma_r', 'prism', 'prism_r', 'rainbow', 'rainbow_r', 'seismic', 'seismic_r',\n",
        "'spring', 'spring_r', 'summer', 'summer_r', 'tab10', 'tab10_r', 'tab20', 'tab20_r', 'tab20b',\n",
        "'tab20b_r', 'tab20c', 'tab20c_r', 'terrain', 'terrain_r', 'turbo', 'turbo_r', 'twilight', \n",
        "'twilight_r', 'twilight_shifted', 'twilight_shifted_r', 'viridis',\n",
        "'viridis_r', 'winter', 'winter_r'"
      ]
    },
    {
      "cell_type": "markdown",
      "id": "6b06f92e",
      "metadata": {
        "id": "6b06f92e"
      },
      "source": [
        "# Neural_Network"
      ]
    },
    {
      "cell_type": "code",
      "execution_count": null,
      "id": "dd3dfd27",
      "metadata": {
        "id": "dd3dfd27"
      },
      "outputs": [],
      "source": [
        "import pandas as pd\n",
        "import numpy as np \n",
        "import matplotlib.pyplot as plt\n",
        "import sklearn\n",
        "from sklearn.neural_network import MLPClassifier\n",
        "from sklearn.neural_network import MLPRegressor\n",
        "\n",
        "# Import necessary modules\n",
        "from sklearn.model_selection import train_test_split\n",
        "from sklearn.metrics import mean_squared_error\n",
        "from math import sqrt\n",
        "from sklearn.metrics import r2_score"
      ]
    },
    {
      "cell_type": "code",
      "execution_count": null,
      "id": "8a2f2646",
      "metadata": {
        "id": "8a2f2646"
      },
      "outputs": [],
      "source": []
    },
    {
      "cell_type": "code",
      "execution_count": null,
      "id": "40644925",
      "metadata": {
        "id": "40644925",
        "outputId": "069b8137-9aaa-4e71-8722-89c05153d00f"
      },
      "outputs": [
        {
          "name": "stdout",
          "output_type": "stream",
          "text": [
            "(4551, 785)\n"
          ]
        },
        {
          "data": {
            "text/html": [
              "<div>\n",
              "<style scoped>\n",
              "    .dataframe tbody tr th:only-of-type {\n",
              "        vertical-align: middle;\n",
              "    }\n",
              "\n",
              "    .dataframe tbody tr th {\n",
              "        vertical-align: top;\n",
              "    }\n",
              "\n",
              "    .dataframe thead th {\n",
              "        text-align: right;\n",
              "    }\n",
              "</style>\n",
              "<table border=\"1\" class=\"dataframe\">\n",
              "  <thead>\n",
              "    <tr style=\"text-align: right;\">\n",
              "      <th></th>\n",
              "      <th>count</th>\n",
              "      <th>mean</th>\n",
              "      <th>std</th>\n",
              "      <th>min</th>\n",
              "      <th>25%</th>\n",
              "      <th>50%</th>\n",
              "      <th>75%</th>\n",
              "      <th>max</th>\n",
              "    </tr>\n",
              "  </thead>\n",
              "  <tbody>\n",
              "    <tr>\n",
              "      <th>0</th>\n",
              "      <td>4551.0</td>\n",
              "      <td>16.885520</td>\n",
              "      <td>10.088067</td>\n",
              "      <td>0.0</td>\n",
              "      <td>8.0</td>\n",
              "      <td>17.0</td>\n",
              "      <td>26.0</td>\n",
              "      <td>34.0</td>\n",
              "    </tr>\n",
              "    <tr>\n",
              "      <th>0.1</th>\n",
              "      <td>4551.0</td>\n",
              "      <td>0.601846</td>\n",
              "      <td>2.139146</td>\n",
              "      <td>0.0</td>\n",
              "      <td>0.0</td>\n",
              "      <td>0.0</td>\n",
              "      <td>0.0</td>\n",
              "      <td>56.0</td>\n",
              "    </tr>\n",
              "    <tr>\n",
              "      <th>0.2</th>\n",
              "      <td>4551.0</td>\n",
              "      <td>0.848385</td>\n",
              "      <td>5.128618</td>\n",
              "      <td>0.0</td>\n",
              "      <td>0.0</td>\n",
              "      <td>0.0</td>\n",
              "      <td>0.0</td>\n",
              "      <td>159.0</td>\n",
              "    </tr>\n",
              "    <tr>\n",
              "      <th>0.3</th>\n",
              "      <td>4551.0</td>\n",
              "      <td>1.208745</td>\n",
              "      <td>8.262981</td>\n",
              "      <td>0.0</td>\n",
              "      <td>0.0</td>\n",
              "      <td>0.0</td>\n",
              "      <td>0.0</td>\n",
              "      <td>220.0</td>\n",
              "    </tr>\n",
              "    <tr>\n",
              "      <th>0.4</th>\n",
              "      <td>4551.0</td>\n",
              "      <td>1.440123</td>\n",
              "      <td>9.523960</td>\n",
              "      <td>0.0</td>\n",
              "      <td>0.0</td>\n",
              "      <td>0.0</td>\n",
              "      <td>0.0</td>\n",
              "      <td>255.0</td>\n",
              "    </tr>\n",
              "    <tr>\n",
              "      <th>...</th>\n",
              "      <td>...</td>\n",
              "      <td>...</td>\n",
              "      <td>...</td>\n",
              "      <td>...</td>\n",
              "      <td>...</td>\n",
              "      <td>...</td>\n",
              "      <td>...</td>\n",
              "      <td>...</td>\n",
              "    </tr>\n",
              "    <tr>\n",
              "      <th>6.9</th>\n",
              "      <td>4551.0</td>\n",
              "      <td>7.466491</td>\n",
              "      <td>29.972796</td>\n",
              "      <td>0.0</td>\n",
              "      <td>0.0</td>\n",
              "      <td>0.0</td>\n",
              "      <td>2.0</td>\n",
              "      <td>255.0</td>\n",
              "    </tr>\n",
              "    <tr>\n",
              "      <th>7.6</th>\n",
              "      <td>4551.0</td>\n",
              "      <td>5.488684</td>\n",
              "      <td>25.385239</td>\n",
              "      <td>0.0</td>\n",
              "      <td>0.0</td>\n",
              "      <td>0.0</td>\n",
              "      <td>1.0</td>\n",
              "      <td>255.0</td>\n",
              "    </tr>\n",
              "    <tr>\n",
              "      <th>7.7</th>\n",
              "      <td>4551.0</td>\n",
              "      <td>4.084157</td>\n",
              "      <td>22.105386</td>\n",
              "      <td>0.0</td>\n",
              "      <td>0.0</td>\n",
              "      <td>0.0</td>\n",
              "      <td>0.0</td>\n",
              "      <td>255.0</td>\n",
              "    </tr>\n",
              "    <tr>\n",
              "      <th>11.2</th>\n",
              "      <td>4551.0</td>\n",
              "      <td>3.112063</td>\n",
              "      <td>19.822724</td>\n",
              "      <td>0.0</td>\n",
              "      <td>0.0</td>\n",
              "      <td>0.0</td>\n",
              "      <td>0.0</td>\n",
              "      <td>255.0</td>\n",
              "    </tr>\n",
              "    <tr>\n",
              "      <th>4.20</th>\n",
              "      <td>4551.0</td>\n",
              "      <td>1.520105</td>\n",
              "      <td>9.743049</td>\n",
              "      <td>0.0</td>\n",
              "      <td>0.0</td>\n",
              "      <td>0.0</td>\n",
              "      <td>0.0</td>\n",
              "      <td>168.0</td>\n",
              "    </tr>\n",
              "  </tbody>\n",
              "</table>\n",
              "<p>785 rows × 8 columns</p>\n",
              "</div>"
            ],
            "text/plain": [
              "       count       mean        std  min  25%   50%   75%    max\n",
              "0     4551.0  16.885520  10.088067  0.0  8.0  17.0  26.0   34.0\n",
              "0.1   4551.0   0.601846   2.139146  0.0  0.0   0.0   0.0   56.0\n",
              "0.2   4551.0   0.848385   5.128618  0.0  0.0   0.0   0.0  159.0\n",
              "0.3   4551.0   1.208745   8.262981  0.0  0.0   0.0   0.0  220.0\n",
              "0.4   4551.0   1.440123   9.523960  0.0  0.0   0.0   0.0  255.0\n",
              "...      ...        ...        ...  ...  ...   ...   ...    ...\n",
              "6.9   4551.0   7.466491  29.972796  0.0  0.0   0.0   2.0  255.0\n",
              "7.6   4551.0   5.488684  25.385239  0.0  0.0   0.0   1.0  255.0\n",
              "7.7   4551.0   4.084157  22.105386  0.0  0.0   0.0   0.0  255.0\n",
              "11.2  4551.0   3.112063  19.822724  0.0  0.0   0.0   0.0  255.0\n",
              "4.20  4551.0   1.520105   9.743049  0.0  0.0   0.0   0.0  168.0\n",
              "\n",
              "[785 rows x 8 columns]"
            ]
          },
          "execution_count": 38,
          "metadata": {},
          "output_type": "execute_result"
        }
      ],
      "source": [
        "\n",
        "print(data.shape)\n",
        "data.describe().transpose()"
      ]
    },
    {
      "cell_type": "code",
      "execution_count": null,
      "id": "1833b090",
      "metadata": {
        "id": "1833b090"
      },
      "outputs": [],
      "source": []
    },
    {
      "cell_type": "code",
      "execution_count": null,
      "id": "b0380ba8",
      "metadata": {
        "id": "b0380ba8",
        "outputId": "dc1ad251-c730-43a5-9cb8-310a7c926d7d"
      },
      "outputs": [
        {
          "name": "stdout",
          "output_type": "stream",
          "text": [
            "(3185, 784)\n",
            "(1366, 784)\n"
          ]
        }
      ],
      "source": [
        "X = data.iloc[:,1:]\n",
        "Y = data[\"0\"]\n",
        "\n",
        "x_train, x_test, y_train, y_test = train_test_split(X, Y, test_size=0.30, random_state=40)\n",
        "print(x_train.shape); print(x_test.shape)"
      ]
    },
    {
      "cell_type": "code",
      "execution_count": null,
      "id": "94435aac",
      "metadata": {
        "id": "94435aac"
      },
      "outputs": [],
      "source": []
    },
    {
      "cell_type": "code",
      "execution_count": null,
      "id": "33bd38a4",
      "metadata": {
        "id": "33bd38a4"
      },
      "outputs": [],
      "source": [
        "from sklearn.neural_network import MLPClassifier\n",
        "\n",
        "mlp = MLPClassifier(hidden_layer_sizes=(8,8,8), activation='relu', solver='adam', max_iter=500)\n",
        "mlp.fit(x_train,y_train)\n",
        "\n",
        "predict_train = mlp.predict(x_train)\n",
        "predict_test = mlp.predict(x_test)"
      ]
    },
    {
      "cell_type": "code",
      "execution_count": null,
      "id": "d1610a3f",
      "metadata": {
        "id": "d1610a3f"
      },
      "outputs": [],
      "source": []
    },
    {
      "cell_type": "code",
      "execution_count": null,
      "id": "31433f95",
      "metadata": {
        "id": "31433f95",
        "outputId": "b0c930cd-663d-4ec1-8457-a8cc8fea598f"
      },
      "outputs": [
        {
          "name": "stdout",
          "output_type": "stream",
          "text": [
            "[[42  0  0 ...  0  0  0]\n",
            " [ 0 74  0 ...  0  0  0]\n",
            " [ 0  0 73 ...  0  0  0]\n",
            " ...\n",
            " [ 0  1  1 ... 27  0  0]\n",
            " [ 0  0  0 ...  0  0  0]\n",
            " [ 0  0  0 ...  0  0  0]]\n",
            "              precision    recall  f1-score   support\n",
            "\n",
            "           0       0.51      0.44      0.47        96\n",
            "           1       0.46      0.76      0.57        97\n",
            "           2       0.62      0.79      0.70        92\n",
            "           3       0.00      0.00      0.00        88\n",
            "           4       0.64      0.39      0.49        92\n",
            "           5       0.34      0.65      0.45        91\n",
            "           6       0.08      0.98      0.14       105\n",
            "           7       0.00      0.00      0.00        95\n",
            "           8       0.90      0.68      0.78        97\n",
            "           9       1.00      0.04      0.07        84\n",
            "          10       0.00      0.00      0.00        85\n",
            "          11       0.81      0.22      0.35        95\n",
            "          12       0.97      0.82      0.89        90\n",
            "          13       0.62      0.05      0.10        95\n",
            "          14       0.86      0.74      0.80        90\n",
            "          15       1.00      0.98      0.99        98\n",
            "          16       0.00      0.00      0.00        82\n",
            "          17       0.42      0.39      0.40        90\n",
            "          18       0.00      0.00      0.00        84\n",
            "          19       0.55      0.48      0.51       101\n",
            "          20       0.30      0.38      0.34        81\n",
            "          21       0.34      0.50      0.41        92\n",
            "          22       0.98      0.97      0.97        93\n",
            "          23       0.75      0.92      0.82        96\n",
            "          24       0.00      0.00      0.00        81\n",
            "          25       0.00      0.00      0.00        89\n",
            "          26       0.00      0.00      0.00        91\n",
            "          27       0.00      0.00      0.00        88\n",
            "          28       0.49      0.18      0.26       101\n",
            "          29       0.94      0.90      0.92        89\n",
            "          30       0.85      0.28      0.43        81\n",
            "          31       0.95      0.64      0.76        86\n",
            "          32       0.38      0.28      0.32        97\n",
            "          33       0.00      0.00      0.00        85\n",
            "          34       0.00      0.00      0.00        88\n",
            "\n",
            "    accuracy                           0.40      3185\n",
            "   macro avg       0.45      0.38      0.37      3185\n",
            "weighted avg       0.46      0.40      0.38      3185\n",
            "\n"
          ]
        },
        {
          "name": "stderr",
          "output_type": "stream",
          "text": [
            "C:\\Users\\ARAS STORE\\anaconda3\\lib\\site-packages\\sklearn\\metrics\\_classification.py:1318: UndefinedMetricWarning: Precision and F-score are ill-defined and being set to 0.0 in labels with no predicted samples. Use `zero_division` parameter to control this behavior.\n",
            "  _warn_prf(average, modifier, msg_start, len(result))\n",
            "C:\\Users\\ARAS STORE\\anaconda3\\lib\\site-packages\\sklearn\\metrics\\_classification.py:1318: UndefinedMetricWarning: Precision and F-score are ill-defined and being set to 0.0 in labels with no predicted samples. Use `zero_division` parameter to control this behavior.\n",
            "  _warn_prf(average, modifier, msg_start, len(result))\n",
            "C:\\Users\\ARAS STORE\\anaconda3\\lib\\site-packages\\sklearn\\metrics\\_classification.py:1318: UndefinedMetricWarning: Precision and F-score are ill-defined and being set to 0.0 in labels with no predicted samples. Use `zero_division` parameter to control this behavior.\n",
            "  _warn_prf(average, modifier, msg_start, len(result))\n"
          ]
        }
      ],
      "source": [
        "from sklearn.metrics import classification_report,confusion_matrix\n",
        "print(confusion_matrix(y_train,predict_train))\n",
        "print(classification_report(y_train,predict_train))"
      ]
    },
    {
      "cell_type": "code",
      "execution_count": null,
      "id": "2bf339a1",
      "metadata": {
        "id": "2bf339a1",
        "outputId": "fc64a87a-38b7-404f-e448-f5794b6a9a69"
      },
      "outputs": [
        {
          "name": "stdout",
          "output_type": "stream",
          "text": [
            "[[ 3  6  0 ...  0  0  0]\n",
            " [ 3 21  0 ...  0  0  0]\n",
            " [ 0  0 21 ...  0  0  0]\n",
            " ...\n",
            " [ 0  0  2 ...  4  0  0]\n",
            " [ 0  0  0 ...  0  0  0]\n",
            " [ 0  0  0 ...  0  0  0]]\n",
            "              precision    recall  f1-score   support\n",
            "\n",
            "           0       0.12      0.09      0.10        35\n",
            "           1       0.32      0.58      0.42        36\n",
            "           2       0.54      0.58      0.56        36\n",
            "           3       0.00      0.00      0.00        38\n",
            "           4       0.24      0.16      0.19        38\n",
            "           5       0.23      0.38      0.29        39\n",
            "           6       0.06      0.78      0.10        46\n",
            "           7       0.00      0.00      0.00        37\n",
            "           8       0.31      0.32      0.31        34\n",
            "           9       0.00      0.00      0.00        44\n",
            "          10       0.00      0.00      0.00        47\n",
            "          11       0.12      0.05      0.07        37\n",
            "          12       0.73      0.69      0.71        39\n",
            "          13       0.00      0.00      0.00        36\n",
            "          14       0.69      0.46      0.55        39\n",
            "          15       0.62      0.59      0.61        39\n",
            "          16       0.00      0.00      0.00        49\n",
            "          17       0.15      0.11      0.12        38\n",
            "          18       0.00      0.00      0.00        39\n",
            "          19       0.14      0.19      0.16        27\n",
            "          20       0.04      0.02      0.03        46\n",
            "          21       0.22      0.29      0.25        42\n",
            "          22       0.70      0.66      0.68        35\n",
            "          23       0.52      0.71      0.60        35\n",
            "          24       0.00      0.00      0.00        45\n",
            "          25       0.00      0.00      0.00        37\n",
            "          26       0.00      0.00      0.00        38\n",
            "          27       0.00      0.00      0.00        46\n",
            "          28       0.08      0.03      0.04        34\n",
            "          29       0.60      0.73      0.66        37\n",
            "          30       0.33      0.09      0.14        46\n",
            "          31       0.30      0.21      0.25        42\n",
            "          32       0.16      0.12      0.14        32\n",
            "          33       0.00      0.00      0.00        41\n",
            "          34       0.00      0.00      0.00        37\n",
            "\n",
            "    accuracy                           0.22      1366\n",
            "   macro avg       0.21      0.22      0.20      1366\n",
            "weighted avg       0.20      0.22      0.19      1366\n",
            "\n"
          ]
        },
        {
          "name": "stderr",
          "output_type": "stream",
          "text": [
            "C:\\Users\\ARAS STORE\\anaconda3\\lib\\site-packages\\sklearn\\metrics\\_classification.py:1318: UndefinedMetricWarning: Precision and F-score are ill-defined and being set to 0.0 in labels with no predicted samples. Use `zero_division` parameter to control this behavior.\n",
            "  _warn_prf(average, modifier, msg_start, len(result))\n",
            "C:\\Users\\ARAS STORE\\anaconda3\\lib\\site-packages\\sklearn\\metrics\\_classification.py:1318: UndefinedMetricWarning: Precision and F-score are ill-defined and being set to 0.0 in labels with no predicted samples. Use `zero_division` parameter to control this behavior.\n",
            "  _warn_prf(average, modifier, msg_start, len(result))\n",
            "C:\\Users\\ARAS STORE\\anaconda3\\lib\\site-packages\\sklearn\\metrics\\_classification.py:1318: UndefinedMetricWarning: Precision and F-score are ill-defined and being set to 0.0 in labels with no predicted samples. Use `zero_division` parameter to control this behavior.\n",
            "  _warn_prf(average, modifier, msg_start, len(result))\n"
          ]
        }
      ],
      "source": [
        "print(confusion_matrix(y_test,predict_test))\n",
        "print(classification_report(y_test,predict_test))"
      ]
    },
    {
      "cell_type": "code",
      "execution_count": null,
      "id": "914d3496",
      "metadata": {
        "id": "914d3496"
      },
      "outputs": [],
      "source": []
    },
    {
      "cell_type": "markdown",
      "id": "d9c81820",
      "metadata": {
        "id": "d9c81820"
      },
      "source": [
        "# KNN (K-Nearest Neighbor)"
      ]
    },
    {
      "cell_type": "code",
      "execution_count": null,
      "id": "053e9e8a",
      "metadata": {
        "id": "053e9e8a"
      },
      "outputs": [],
      "source": [
        "import numpy as np\n",
        "import matplotlib.pyplot as plt\n",
        "import pandas as pd\n",
        "from sklearn.model_selection import train_test_split\n",
        "from sklearn.preprocessing import StandardScaler\n",
        "from sklearn import datasets, neighbors\n",
        "from mlxtend.plotting import plot_decision_regions"
      ]
    },
    {
      "cell_type": "code",
      "execution_count": null,
      "id": "4dc01ed8",
      "metadata": {
        "id": "4dc01ed8"
      },
      "outputs": [],
      "source": []
    },
    {
      "cell_type": "code",
      "execution_count": null,
      "id": "e8d5d98a",
      "metadata": {
        "id": "e8d5d98a"
      },
      "outputs": [],
      "source": [
        "dataset = pd.read_csv(r'kurdish_alphabetical.csv')"
      ]
    },
    {
      "cell_type": "code",
      "execution_count": null,
      "id": "6d7d14e3",
      "metadata": {
        "id": "6d7d14e3"
      },
      "outputs": [],
      "source": [
        "#dataset"
      ]
    },
    {
      "cell_type": "code",
      "execution_count": null,
      "id": "4f747e12",
      "metadata": {
        "id": "4f747e12"
      },
      "outputs": [],
      "source": [
        "x = dataset.iloc[:,1:]\n",
        "y = dataset['0']"
      ]
    },
    {
      "cell_type": "code",
      "execution_count": null,
      "id": "4a774bfc",
      "metadata": {
        "id": "4a774bfc"
      },
      "outputs": [],
      "source": [
        "x_train, x_test, y_train, y_test = train_test_split(x,y,test_size=0.20,random_state=0)"
      ]
    },
    {
      "cell_type": "code",
      "execution_count": null,
      "id": "80162d09",
      "metadata": {
        "id": "80162d09"
      },
      "outputs": [],
      "source": [
        "st_x = StandardScaler()"
      ]
    },
    {
      "cell_type": "code",
      "execution_count": null,
      "id": "d73c42aa",
      "metadata": {
        "id": "d73c42aa"
      },
      "outputs": [],
      "source": [
        "x_train = st_x.fit_transform(x_train)\n",
        "x_test = st_x.transform(x_test)"
      ]
    },
    {
      "cell_type": "code",
      "execution_count": null,
      "id": "933109d5",
      "metadata": {
        "id": "933109d5"
      },
      "outputs": [],
      "source": [
        "from sklearn.neighbors import KNeighborsClassifier"
      ]
    },
    {
      "cell_type": "code",
      "execution_count": null,
      "id": "a7ce0dd5",
      "metadata": {
        "id": "a7ce0dd5"
      },
      "outputs": [],
      "source": [
        "n_neighbors=5,\n",
        "weights='uniform'\n",
        "print_wrong_pred=True"
      ]
    },
    {
      "cell_type": "code",
      "execution_count": null,
      "id": "6105f5d5",
      "metadata": {
        "id": "6105f5d5"
      },
      "outputs": [],
      "source": [
        "cls = KNeighborsClassifier(n_neighbors=5, weights='uniform', metric='minkowski',p=2)"
      ]
    },
    {
      "cell_type": "code",
      "execution_count": null,
      "id": "dfb93d95",
      "metadata": {
        "id": "dfb93d95"
      },
      "outputs": [],
      "source": []
    },
    {
      "cell_type": "code",
      "execution_count": null,
      "id": "21efe9dc",
      "metadata": {
        "id": "21efe9dc",
        "outputId": "d90c4259-c43f-42b0-e02e-d9e1c9349a0f"
      },
      "outputs": [
        {
          "data": {
            "text/plain": [
              "KNeighborsClassifier()"
            ]
          },
          "execution_count": 54,
          "metadata": {},
          "output_type": "execute_result"
        }
      ],
      "source": [
        "cls.fit(x_train,y_train)"
      ]
    },
    {
      "cell_type": "code",
      "execution_count": null,
      "id": "fe91c2ac",
      "metadata": {
        "id": "fe91c2ac"
      },
      "outputs": [],
      "source": [
        "ypred = cls.predict(x_test)"
      ]
    },
    {
      "cell_type": "code",
      "execution_count": null,
      "id": "957d7600",
      "metadata": {
        "id": "957d7600"
      },
      "outputs": [],
      "source": [
        "# Confusion matrix"
      ]
    },
    {
      "cell_type": "code",
      "execution_count": null,
      "id": "58b04338",
      "metadata": {
        "id": "58b04338"
      },
      "outputs": [],
      "source": [
        "from sklearn.metrics import confusion_matrix"
      ]
    },
    {
      "cell_type": "code",
      "execution_count": null,
      "id": "4e514811",
      "metadata": {
        "id": "4e514811"
      },
      "outputs": [],
      "source": [
        "cm = confusion_matrix(y_test,ypred)"
      ]
    },
    {
      "cell_type": "code",
      "execution_count": null,
      "id": "3424c097",
      "metadata": {
        "id": "3424c097",
        "outputId": "e843106d-c72a-4835-c508-0d0615fa3f54"
      },
      "outputs": [
        {
          "data": {
            "text/plain": [
              "array([[16,  0,  0, ...,  0,  0,  0],\n",
              "       [ 0, 29,  0, ...,  0,  0,  0],\n",
              "       [ 0,  0, 13, ...,  0,  0,  0],\n",
              "       ...,\n",
              "       [ 0,  0,  0, ..., 16,  0,  0],\n",
              "       [ 0,  0,  1, ...,  0, 11,  0],\n",
              "       [ 0,  0,  0, ...,  0,  1, 14]], dtype=int64)"
            ]
          },
          "execution_count": 58,
          "metadata": {},
          "output_type": "execute_result"
        }
      ],
      "source": [
        "cm"
      ]
    },
    {
      "cell_type": "code",
      "execution_count": null,
      "id": "91cdebe1",
      "metadata": {
        "id": "91cdebe1"
      },
      "outputs": [],
      "source": [
        "accuracy = round(np.mean(ypred == y_test)*100, 1)"
      ]
    },
    {
      "cell_type": "code",
      "execution_count": null,
      "id": "2b760ee7",
      "metadata": {
        "id": "2b760ee7",
        "outputId": "bf1653a0-c3ad-4c5b-817f-867d7771d9d4"
      },
      "outputs": [
        {
          "data": {
            "text/plain": [
              "57.1"
            ]
          },
          "execution_count": 60,
          "metadata": {},
          "output_type": "execute_result"
        }
      ],
      "source": [
        "accuracy"
      ]
    },
    {
      "cell_type": "markdown",
      "id": "80e2fa15",
      "metadata": {
        "id": "80e2fa15"
      },
      "source": [
        "# Visualization"
      ]
    },
    {
      "cell_type": "code",
      "execution_count": null,
      "id": "99ea02b7",
      "metadata": {
        "id": "99ea02b7",
        "outputId": "a330207a-661f-4ade-a7d8-08be29ddf92e"
      },
      "outputs": [
        {
          "data": {
            "text/plain": [
              "Text(0.5, 1.0, 'Confusion Matrix for Mnist Data')"
            ]
          },
          "execution_count": 61,
          "metadata": {},
          "output_type": "execute_result"
        },
        {
          "data": {
            "image/png": "[encoded data removed]",
            "text/plain": [
              "<Figure size 720x720 with 1 Axes>"
            ]
          },
          "metadata": {},
          "output_type": "display_data"
        }
      ],
      "source": [
        "from sklearn.datasets import fetch_openml\n",
        "from sklearn.model_selection import train_test_split\n",
        "from sklearn import metrics\n",
        "import numpy as np\n",
        "import matplotlib.pyplot as plt\n",
        "\n",
        "from matplotlib.colors import ListedColormap\n",
        "cm = metrics.confusion_matrix(y_test,ypred)\n",
        "cm\n",
        "plt.figure(figsize=(10,10))\n",
        "plt.imshow(cm,cmap='Pastel1')\n",
        "plt.title(\"Confusion Matrix for Mnist Data\")"
      ]
    },
    {
      "cell_type": "code",
      "execution_count": null,
      "id": "3280fa06",
      "metadata": {
        "id": "3280fa06"
      },
      "outputs": [],
      "source": []
    },
    {
      "cell_type": "code",
      "execution_count": null,
      "id": "67958c78",
      "metadata": {
        "id": "67958c78"
      },
      "outputs": [],
      "source": []
    },
    {
      "cell_type": "markdown",
      "id": "a073c648",
      "metadata": {
        "id": "a073c648"
      },
      "source": [
        "# using TensorFlow to train our model"
      ]
    },
    {
      "cell_type": "code",
      "source": [
        "def unrar(file):\n",
        "  import rarfile\n",
        "  rf = rarfile.RarFile(file)\n",
        "  rf.extractall()\n",
        "unrar(\"K_OCR.rar\")"
      ],
      "metadata": {
        "id": "Wzilss-u137d"
      },
      "id": "Wzilss-u137d",
      "execution_count": null,
      "outputs": []
    },
    {
      "cell_type": "code",
      "execution_count": null,
      "id": "aa9681bb",
      "metadata": {
        "id": "aa9681bb"
      },
      "outputs": [],
      "source": [
        "import tensorflow as tf"
      ]
    },
    {
      "cell_type": "code",
      "execution_count": null,
      "id": "9cdf0831",
      "metadata": {
        "id": "9cdf0831"
      },
      "outputs": [],
      "source": [
        "# Generating our data from csv file\n",
        "from tensorflow.keras.preprocessing.image import ImageDataGenerator\n",
        "\n",
        "train_datagen = ImageDataGenerator(rescale=1/255.)\n",
        "test_datagen = ImageDataGenerator(rescale=1/255.)"
      ]
    },
    {
      "cell_type": "code",
      "execution_count": null,
      "id": "d7748e39",
      "metadata": {
        "id": "d7748e39",
        "outputId": "aa5a262e-055b-4586-a07f-c01bb9adbcfd"
      },
      "outputs": [
        {
          "data": {
            "text/plain": [
              "(4551, 785)"
            ]
          },
          "execution_count": 48,
          "metadata": {},
          "output_type": "execute_result"
        }
      ],
      "source": [
        "data.shape"
      ]
    },
    {
      "cell_type": "code",
      "execution_count": null,
      "id": "cf8bdeb4",
      "metadata": {
        "id": "cf8bdeb4"
      },
      "outputs": [],
      "source": [
        "train_dir = \"K_OCR/train\"\n",
        "test_dir = \"K_OCR/test\""
      ]
    },
    {
      "cell_type": "code",
      "execution_count": null,
      "id": "aa764007",
      "metadata": {
        "colab": {
          "base_uri": "https://localhost:8080/"
        },
        "id": "aa764007",
        "outputId": "e37d3a2c-eb75-487b-9cc7-c194a2cf99ac"
      },
      "outputs": [
        {
          "output_type": "stream",
          "name": "stdout",
          "text": [
            "Found 3185 files belonging to 35 classes.\n",
            "Found 1402 files belonging to 35 classes.\n"
          ]
        }
      ],
      "source": [
        "import tensorflow as tf\n",
        "from tensorflow.keras.preprocessing import image_dataset_from_directory\n",
        "train_data = image_dataset_from_directory(train_dir,\n",
        "                                        label_mode=\"categorical\",\n",
        "                                        image_size=(28,28),\n",
        "                                        batch_size=32)\n",
        "test_data = image_dataset_from_directory(test_dir,\n",
        "                                        label_mode=\"categorical\",\n",
        "                                        image_size=(28,28),\n",
        "                                        batch_size=32)"
      ]
    },
    {
      "cell_type": "code",
      "execution_count": null,
      "id": "28f14572",
      "metadata": {
        "id": "28f14572"
      },
      "outputs": [],
      "source": [
        "#test_data.class_names"
      ]
    },
    {
      "cell_type": "code",
      "execution_count": null,
      "id": "f7ac6e56",
      "metadata": {
        "id": "f7ac6e56"
      },
      "outputs": [],
      "source": []
    },
    {
      "cell_type": "code",
      "execution_count": null,
      "id": "8c26298d",
      "metadata": {
        "colab": {
          "base_uri": "https://localhost:8080/"
        },
        "id": "8c26298d",
        "outputId": "7a5af483-cd95-425d-f88d-48cf4d8497c2"
      },
      "outputs": [
        {
          "output_type": "stream",
          "name": "stdout",
          "text": [
            "Epoch 1/25\n",
            "100/100 [==============================] - 13s 15ms/step - loss: 6.4786 - accuracy: 0.0364 - val_loss: 3.5774 - val_accuracy: 0.0678\n",
            "Epoch 2/25\n",
            "100/100 [==============================] - 1s 11ms/step - loss: 3.4058 - accuracy: 0.0835 - val_loss: 3.2282 - val_accuracy: 0.1198\n",
            "Epoch 3/25\n",
            "100/100 [==============================] - 1s 11ms/step - loss: 2.8644 - accuracy: 0.1915 - val_loss: 2.6015 - val_accuracy: 0.2689\n",
            "Epoch 4/25\n",
            "100/100 [==============================] - 1s 11ms/step - loss: 2.1524 - accuracy: 0.3827 - val_loss: 2.0394 - val_accuracy: 0.4137\n",
            "Epoch 5/25\n",
            "100/100 [==============================] - 1s 11ms/step - loss: 1.6761 - accuracy: 0.4976 - val_loss: 1.7634 - val_accuracy: 0.4979\n",
            "Epoch 6/25\n",
            "100/100 [==============================] - 2s 18ms/step - loss: 1.3798 - accuracy: 0.5865 - val_loss: 1.5751 - val_accuracy: 0.5542\n",
            "Epoch 7/25\n",
            "100/100 [==============================] - 1s 10ms/step - loss: 1.1687 - accuracy: 0.6396 - val_loss: 1.4779 - val_accuracy: 0.5820\n",
            "Epoch 8/25\n",
            "100/100 [==============================] - 1s 10ms/step - loss: 1.0035 - accuracy: 0.6772 - val_loss: 1.4440 - val_accuracy: 0.6091\n",
            "Epoch 9/25\n",
            "100/100 [==============================] - 1s 10ms/step - loss: 0.8924 - accuracy: 0.7256 - val_loss: 1.3217 - val_accuracy: 0.6013\n",
            "Epoch 10/25\n",
            "100/100 [==============================] - 1s 10ms/step - loss: 0.7883 - accuracy: 0.7501 - val_loss: 1.3269 - val_accuracy: 0.6277\n",
            "Epoch 11/25\n",
            "100/100 [==============================] - 1s 10ms/step - loss: 0.7092 - accuracy: 0.7749 - val_loss: 1.2749 - val_accuracy: 0.6348\n",
            "Epoch 12/25\n",
            "100/100 [==============================] - 1s 10ms/step - loss: 0.6209 - accuracy: 0.8060 - val_loss: 1.2549 - val_accuracy: 0.6484\n",
            "Epoch 13/25\n",
            "100/100 [==============================] - 1s 11ms/step - loss: 0.5726 - accuracy: 0.8129 - val_loss: 1.2207 - val_accuracy: 0.6548\n",
            "Epoch 14/25\n",
            "100/100 [==============================] - 1s 11ms/step - loss: 0.5154 - accuracy: 0.8389 - val_loss: 1.3260 - val_accuracy: 0.6327\n",
            "Epoch 15/25\n",
            "100/100 [==============================] - 2s 19ms/step - loss: 0.4717 - accuracy: 0.8496 - val_loss: 1.2884 - val_accuracy: 0.6598\n",
            "Epoch 16/25\n",
            "100/100 [==============================] - 1s 10ms/step - loss: 0.4190 - accuracy: 0.8681 - val_loss: 1.2678 - val_accuracy: 0.6612\n",
            "Epoch 17/25\n",
            "100/100 [==============================] - 1s 10ms/step - loss: 0.3802 - accuracy: 0.8810 - val_loss: 1.3153 - val_accuracy: 0.6719\n",
            "Epoch 18/25\n",
            "100/100 [==============================] - 2s 16ms/step - loss: 0.3618 - accuracy: 0.8816 - val_loss: 1.3740 - val_accuracy: 0.6748\n",
            "Epoch 19/25\n",
            "100/100 [==============================] - 2s 16ms/step - loss: 0.3183 - accuracy: 0.9014 - val_loss: 1.4046 - val_accuracy: 0.6719\n",
            "Epoch 20/25\n",
            "100/100 [==============================] - 2s 16ms/step - loss: 0.3001 - accuracy: 0.9068 - val_loss: 1.4020 - val_accuracy: 0.6783\n",
            "Epoch 21/25\n",
            "100/100 [==============================] - 1s 11ms/step - loss: 0.2425 - accuracy: 0.9259 - val_loss: 1.4788 - val_accuracy: 0.6819\n",
            "Epoch 22/25\n",
            "100/100 [==============================] - 2s 16ms/step - loss: 0.2263 - accuracy: 0.9290 - val_loss: 1.5433 - val_accuracy: 0.6797\n",
            "Epoch 23/25\n",
            "100/100 [==============================] - 1s 10ms/step - loss: 0.1828 - accuracy: 0.9425 - val_loss: 1.5951 - val_accuracy: 0.6840\n",
            "Epoch 24/25\n",
            "100/100 [==============================] - 1s 11ms/step - loss: 0.1954 - accuracy: 0.9359 - val_loss: 1.6452 - val_accuracy: 0.6755\n",
            "Epoch 25/25\n",
            "100/100 [==============================] - 1s 11ms/step - loss: 0.1549 - accuracy: 0.9488 - val_loss: 1.7379 - val_accuracy: 0.6897\n"
          ]
        },
        {
          "output_type": "execute_result",
          "data": {
            "text/plain": [
              "<keras.callbacks.History at 0x7f6ee4da4b50>"
            ]
          },
          "metadata": {},
          "execution_count": 9
        }
      ],
      "source": [
        "model = tf.keras.Sequential([\n",
        "    tf.keras.layers.Conv2D(filters=10,kernel_size=3,activation=\"relu\",input_shape=(28,28,3)),\n",
        "    tf.keras.layers.Conv2D(10,3,activation=\"relu\"),\n",
        "    tf.keras.layers.MaxPool2D(pool_size=2),\n",
        "    tf.keras.layers.Conv2D(10,3,activation=\"relu\"),\n",
        "    tf.keras.layers.Conv2D(10,3,activation=\"relu\"),\n",
        "    tf.keras.layers.MaxPool2D(2),\n",
        "    tf.keras.layers.Flatten(),\n",
        "    tf.keras.layers.Dense(len(train_data.class_names),activation=\"softmax\")\n",
        "])\n",
        "\n",
        "model.compile(loss=\"categorical_crossentropy\",\n",
        "             optimizer=tf.keras.optimizers.Adam(),\n",
        "             metrics=[\"accuracy\"])\n",
        "\n",
        "model.fit(train_data,\n",
        "         epochs=25,\n",
        "         steps_per_epoch=len(train_data),\n",
        "         validation_data=test_data,\n",
        "         validation_steps=len(test_data))"
      ]
    },
    {
      "cell_type": "code",
      "source": [
        "model.history"
      ],
      "metadata": {
        "colab": {
          "base_uri": "https://localhost:8080/"
        },
        "id": "kkLEP3IFBFwj",
        "outputId": "540a5da9-91db-4614-c3a1-e179fc1187fb"
      },
      "id": "kkLEP3IFBFwj",
      "execution_count": null,
      "outputs": [
        {
          "output_type": "execute_result",
          "data": {
            "text/plain": [
              "<keras.callbacks.History at 0x7fced028b430>"
            ]
          },
          "metadata": {},
          "execution_count": 39
        }
      ]
    },
    {
      "cell_type": "code",
      "source": [
        "def plot_loss_curves(history):\n",
        "  \n",
        "  loss = history.history['loss']\n",
        "  val_loss = history.history['val_loss']\n",
        "\n",
        "  accuracy = history.history['accuracy']\n",
        "  val_accuracy = history.history['val_accuracy']\n",
        "\n",
        "  epochs = range(len(history.history['loss']))\n",
        "\n",
        "  # Plot loss\n",
        "  plt.plot(epochs, loss, label='training_loss')\n",
        "  plt.plot(epochs, val_loss, label='val_loss')\n",
        "  plt.title('Loss')\n",
        "  plt.xlabel('Epochs')\n",
        "  plt.legend()\n",
        "\n",
        "  # Plot accuracy\n",
        "  plt.figure()\n",
        "  plt.plot(epochs, accuracy, label='training_accuracy')\n",
        "  plt.plot(epochs, val_accuracy, label='val_accuracy')\n",
        "  plt.title('Accuracy')\n",
        "  plt.xlabel('Epochs')\n",
        "  plt.legend();"
      ],
      "metadata": {
        "id": "wdMvgDmOD7H2"
      },
      "id": "wdMvgDmOD7H2",
      "execution_count": null,
      "outputs": []
    },
    {
      "cell_type": "code",
      "execution_count": null,
      "id": "390f9fd2",
      "metadata": {
        "colab": {
          "base_uri": "https://localhost:8080/",
          "height": 573
        },
        "id": "390f9fd2",
        "outputId": "b8f8193f-128c-49e0-fc7c-2678997fa8b0"
      },
      "outputs": [
        {
          "output_type": "display_data",
          "data": {
            "text/plain": [
              "<Figure size 432x288 with 1 Axes>"
            ],
            "image/png": "[encoded data removed]"
          },
          "metadata": {
            "needs_background": "light"
          }
        },
        {
          "output_type": "display_data",
          "data": {
            "text/plain": [
              "<Figure size 432x288 with 1 Axes>"
            ],
            "image/png": "[encoded data removed]"
          },
          "metadata": {
            "needs_background": "light"
          }
        }
      ],
      "source": [
        "import matplotlib.pyplot as plt\n",
        "plot_loss_curves(model.history)"
      ]
    },
    {
      "cell_type": "code",
      "execution_count": null,
      "id": "0961d37b",
      "metadata": {
        "id": "0961d37b",
        "colab": {
          "base_uri": "https://localhost:8080/"
        },
        "outputId": "6f5893de-2574-4d5a-8296-e5122a727f4a"
      },
      "outputs": [
        {
          "output_type": "stream",
          "name": "stdout",
          "text": [
            "44/44 [==============================] - 1s 8ms/step\n"
          ]
        },
        {
          "output_type": "execute_result",
          "data": {
            "text/plain": [
              "array([[4.05088594e-15, 1.08016295e-16, 1.62089078e-10, ...,\n",
              "        4.43404645e-07, 1.24258881e-09, 4.93383752e-08],\n",
              "       [1.49145072e-16, 2.04774659e-22, 2.25143509e-14, ...,\n",
              "        1.23134869e-09, 7.15054692e-17, 6.80529477e-24],\n",
              "       [2.47809483e-04, 1.79659687e-09, 7.50470768e-16, ...,\n",
              "        3.21151196e-11, 3.50305801e-16, 2.08229113e-22],\n",
              "       ...,\n",
              "       [2.09834525e-10, 2.58987276e-12, 9.32466130e-15, ...,\n",
              "        1.86892994e-05, 8.14232015e-11, 4.55866735e-13],\n",
              "       [3.56388800e-02, 7.29468069e-04, 9.39740914e-07, ...,\n",
              "        4.61895843e-12, 1.34934144e-08, 2.73469719e-11],\n",
              "       [3.47258289e-09, 1.20940400e-12, 5.95883989e-07, ...,\n",
              "        5.49101293e-01, 5.15316501e-09, 2.82700286e-18]], dtype=float32)"
            ]
          },
          "metadata": {},
          "execution_count": 12
        }
      ],
      "source": [
        "model.predict(test_data)"
      ]
    },
    {
      "cell_type": "code",
      "source": [
        "model.evaluate(test_data)"
      ],
      "metadata": {
        "colab": {
          "base_uri": "https://localhost:8080/"
        },
        "id": "ZKhHxN6Z2KIn",
        "outputId": "2565f26f-53c9-42ad-a2bc-aaa0e5fd7403"
      },
      "id": "ZKhHxN6Z2KIn",
      "execution_count": null,
      "outputs": [
        {
          "output_type": "stream",
          "name": "stdout",
          "text": [
            "44/44 [==============================] - 1s 13ms/step - loss: 1.7379 - accuracy: 0.6897\n"
          ]
        },
        {
          "output_type": "execute_result",
          "data": {
            "text/plain": [
              "[1.737891674041748, 0.6897289752960205]"
            ]
          },
          "metadata": {},
          "execution_count": 14
        }
      ]
    },
    {
      "cell_type": "markdown",
      "source": [
        "## what if we use Normalized data with specified learnign rate"
      ],
      "metadata": {
        "id": "py46ux-M6wo-"
      },
      "id": "py46ux-M6wo-"
    },
    {
      "cell_type": "code",
      "source": [],
      "metadata": {
        "id": "LIjTGanl6zzB"
      },
      "id": "LIjTGanl6zzB",
      "execution_count": null,
      "outputs": []
    },
    {
      "cell_type": "code",
      "source": [
        "from tensorflow.keras.preprocessing.image import ImageDataGenerator\n",
        "train_datagen = ImageDataGenerator(rescale=1/255.)\n",
        "test_datagen = ImageDataGenerator(rescale=1/255.)"
      ],
      "metadata": {
        "id": "gOGR2b3Z2j9G"
      },
      "id": "gOGR2b3Z2j9G",
      "execution_count": null,
      "outputs": []
    },
    {
      "cell_type": "code",
      "source": [
        "train_data_normalized = train_datagen.flow_from_directory(train_dir,\n",
        "                                                          batch_size=32,\n",
        "                                                          class_mode=\"categorical\",\n",
        "                                                          target_size=(28,28))\n",
        "test_data_normalized = test_datagen.flow_from_directory(test_dir,\n",
        "                                                           batch_size=32,\n",
        "                                                           class_mode=\"categorical\",\n",
        "                                                           target_size=(28,28))                                                        \n"
      ],
      "metadata": {
        "colab": {
          "base_uri": "https://localhost:8080/"
        },
        "id": "Wpjq5Vpg28yr",
        "outputId": "d56e998d-2cc9-49ce-b68d-06f9e2f43fbf"
      },
      "id": "Wpjq5Vpg28yr",
      "execution_count": null,
      "outputs": [
        {
          "output_type": "stream",
          "name": "stdout",
          "text": [
            "Found 3185 images belonging to 35 classes.\n",
            "Found 1402 images belonging to 35 classes.\n"
          ]
        }
      ]
    },
    {
      "cell_type": "code",
      "source": [
        "model_1 = tf.keras.Sequential([\n",
        "    tf.keras.layers.Conv2D(filters=10,kernel_size=3,activation=\"relu\",input_shape=(28,28,3)),\n",
        "    tf.keras.layers.Conv2D(10,3,activation='relu'),\n",
        "    tf.keras.layers.MaxPool2D(pool_size=2),\n",
        "    tf.keras.layers.Conv2D(10,3,activation='relu'),\n",
        "    tf.keras.layers.Conv2D(10,3,activation=\"relu\"),\n",
        "    tf.keras.layers.MaxPool2D(2),\n",
        "    tf.keras.layers.Flatten(),\n",
        "    tf.keras.layers.Dense(35,activation=\"softmax\")\n",
        "])\n",
        "model_1.compile(loss=\"categorical_crossentropy\",\n",
        "                optimizer=tf.keras.optimizers.Adam(0.001),\n",
        "                metrics=[\"accuracy\"])\n",
        "hitory_1 = model_1.fit(train_data_normalized,\n",
        "            epochs=10,\n",
        "            steps_per_epoch=len(train_data_normalized),\n",
        "            validation_data=test_data_normalized,\n",
        "            validation_steps=len(test_data_normalized))"
      ],
      "metadata": {
        "colab": {
          "base_uri": "https://localhost:8080/"
        },
        "id": "LNJJ08UX2P5R",
        "outputId": "e6893fb2-be7a-429a-b195-b72b0fd12c73"
      },
      "id": "LNJJ08UX2P5R",
      "execution_count": null,
      "outputs": [
        {
          "output_type": "stream",
          "name": "stdout",
          "text": [
            "Epoch 1/10\n",
            "100/100 [==============================] - 5s 28ms/step - loss: 3.0427 - accuracy: 0.1699 - val_loss: 2.1409 - val_accuracy: 0.3837\n",
            "Epoch 2/10\n",
            "100/100 [==============================] - 3s 26ms/step - loss: 1.7712 - accuracy: 0.4794 - val_loss: 1.5281 - val_accuracy: 0.5499\n",
            "Epoch 3/10\n",
            "100/100 [==============================] - 3s 26ms/step - loss: 1.3712 - accuracy: 0.5849 - val_loss: 1.2863 - val_accuracy: 0.6120\n",
            "Epoch 4/10\n",
            "100/100 [==============================] - 4s 36ms/step - loss: 1.1481 - accuracy: 0.6571 - val_loss: 1.1393 - val_accuracy: 0.6683\n",
            "Epoch 5/10\n",
            "100/100 [==============================] - 3s 31ms/step - loss: 1.0092 - accuracy: 0.6954 - val_loss: 1.0761 - val_accuracy: 0.6805\n",
            "Epoch 6/10\n",
            "100/100 [==============================] - 3s 27ms/step - loss: 0.9110 - accuracy: 0.7237 - val_loss: 0.9960 - val_accuracy: 0.7111\n",
            "Epoch 7/10\n",
            "100/100 [==============================] - 3s 27ms/step - loss: 0.8439 - accuracy: 0.7378 - val_loss: 0.9737 - val_accuracy: 0.7140\n",
            "Epoch 8/10\n",
            "100/100 [==============================] - 3s 33ms/step - loss: 0.7786 - accuracy: 0.7667 - val_loss: 0.9324 - val_accuracy: 0.7247\n",
            "Epoch 9/10\n",
            "100/100 [==============================] - 3s 25ms/step - loss: 0.7294 - accuracy: 0.7780 - val_loss: 0.9289 - val_accuracy: 0.7375\n",
            "Epoch 10/10\n",
            "100/100 [==============================] - 3s 27ms/step - loss: 0.6698 - accuracy: 0.7846 - val_loss: 0.8770 - val_accuracy: 0.7439\n"
          ]
        }
      ]
    },
    {
      "cell_type": "code",
      "source": [],
      "metadata": {
        "id": "lCVn_n5H6P5y"
      },
      "id": "lCVn_n5H6P5y",
      "execution_count": null,
      "outputs": []
    },
    {
      "cell_type": "code",
      "source": [
        "model_1.evaluate(test_data_normalized)"
      ],
      "metadata": {
        "colab": {
          "base_uri": "https://localhost:8080/"
        },
        "id": "YH4Jz7yo5rYM",
        "outputId": "7da97864-75cf-4152-b3d9-2d715a4ca4cb"
      },
      "id": "YH4Jz7yo5rYM",
      "execution_count": null,
      "outputs": [
        {
          "output_type": "stream",
          "name": "stdout",
          "text": [
            "44/44 [==============================] - 1s 17ms/step - loss: 0.8770 - accuracy: 0.7439\n"
          ]
        },
        {
          "output_type": "execute_result",
          "data": {
            "text/plain": [
              "[0.8770241737365723, 0.7439372539520264]"
            ]
          },
          "metadata": {},
          "execution_count": 43
        }
      ]
    },
    {
      "cell_type": "code",
      "execution_count": null,
      "id": "9dfba4dd",
      "metadata": {
        "id": "9dfba4dd"
      },
      "outputs": [],
      "source": []
    }
  ],
  "metadata": {
    "kernelspec": {
      "display_name": "Python 3 (ipykernel)",
      "language": "python",
      "name": "python3"
    },
    "language_info": {
      "codemirror_mode": {
        "name": "ipython",
        "version": 3
      },
      "file_extension": ".py",
      "mimetype": "text/x-python",
      "name": "python",
      "nbconvert_exporter": "python",
      "pygments_lexer": "ipython3",
      "version": "3.9.12"
    },
    "colab": {
      "provenance": []
    },
    "accelerator": "GPU",
    "gpuClass": "standard"
  },
  "nbformat": 4,
  "nbformat_minor": 5
}